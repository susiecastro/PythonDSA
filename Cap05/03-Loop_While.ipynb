{
 "cells": [
  {
   "cell_type": "markdown",
   "id": "08c9adef",
   "metadata": {},
   "source": [
    "### Loop While"
   ]
  },
  {
   "cell_type": "code",
   "execution_count": 3,
   "id": "f4fcf1fd",
   "metadata": {},
   "outputs": [
    {
     "name": "stdout",
     "output_type": "stream",
     "text": [
      "0\n",
      "1\n",
      "2\n",
      "3\n",
      "4\n",
      "5\n",
      "6\n",
      "7\n",
      "8\n",
      "9\n"
     ]
    }
   ],
   "source": [
    "# Usando o loop while para imprimir os valores de 0 a 9\n",
    "# A condição tem que deixar de ser verdadeira dentro do  loop, senão pode travar o navegador ou mesmo o computador\n",
    "\n",
    "valor = 0\n",
    "while valor <10:\n",
    "    print(valor)\n",
    "    valor = valor + 1"
   ]
  },
  {
   "cell_type": "code",
   "execution_count": 9,
   "id": "43fd2632",
   "metadata": {},
   "outputs": [],
   "source": [
    "# Entra no loop somente se a condição for verdadeira\n",
    "# Este exemmplo não entra no loop porque a condição valor = 11 não é verdadeira\n",
    "\n",
    "valor = 11\n",
    "while valor <10:\n",
    "    print(valor)\n",
    "    valor = valor + 1"
   ]
  },
  {
   "cell_type": "code",
   "execution_count": 2,
   "id": "2400aeba",
   "metadata": {},
   "outputs": [
    {
     "name": "stdout",
     "output_type": "stream",
     "text": [
      "O valor de x nesta iteração é:  0\n",
      " x ainda é menor que 10, somando 1 a x\n",
      "O valor de x nesta iteração é:  1\n",
      " x ainda é menor que 10, somando 1 a x\n",
      "O valor de x nesta iteração é:  2\n",
      " x ainda é menor que 10, somando 1 a x\n",
      "O valor de x nesta iteração é:  3\n",
      " x ainda é menor que 10, somando 1 a x\n",
      "O valor de x nesta iteração é:  4\n",
      " x ainda é menor que 10, somando 1 a x\n",
      "O valor de x nesta iteração é:  5\n",
      " x ainda é menor que 10, somando 1 a x\n",
      "O valor de x nesta iteração é:  6\n",
      " x ainda é menor que 10, somando 1 a x\n",
      "O valor de x nesta iteração é:  7\n",
      " x ainda é menor que 10, somando 1 a x\n",
      "O valor de x nesta iteração é:  8\n",
      " x ainda é menor que 10, somando 1 a x\n",
      "O valor de x nesta iteração é:  9\n",
      " x ainda é menor que 10, somando 1 a x\n",
      "Loop concluído\n",
      "10\n"
     ]
    }
   ],
   "source": [
    "# Também é possível usar a clausula else para encerrar o loop while\n",
    "\n",
    "x = 0\n",
    "\n",
    "while x < 10:\n",
    "    print('O valor de x nesta iteração é: ', x)\n",
    "    print(' x ainda é menor que 10, somando 1 a x')\n",
    "    x +=1\n",
    "    \n",
    "else:\n",
    "    print('Loop concluído')\n",
    "print(x)"
   ]
  },
  {
   "cell_type": "markdown",
   "id": "b40a096a",
   "metadata": {},
   "source": [
    "### Pass, Break, Continue"
   ]
  },
  {
   "cell_type": "code",
   "execution_count": 3,
   "id": "d13c3800",
   "metadata": {},
   "outputs": [
    {
     "name": "stdout",
     "output_type": "stream",
     "text": [
      "0\n",
      "1\n",
      "2\n",
      "3\n"
     ]
    }
   ],
   "source": [
    "# Se encontrarmos o número 4 interrompemos o loop\n",
    "\n",
    "valor = 0\n",
    "while valor < 10:\n",
    "    if valor == 4:\n",
    "        break\n",
    "    else:\n",
    "        pass\n",
    "    print(valor)\n",
    "    valor = valor + 1"
   ]
  },
  {
   "cell_type": "code",
   "execution_count": 7,
   "id": "645ee703",
   "metadata": {},
   "outputs": [
    {
     "name": "stdout",
     "output_type": "stream",
     "text": [
      "P\n",
      "y\n",
      "t\n",
      "h\n",
      "o\n",
      "n\n",
      " \n",
      "é\n",
      " \n",
      " \n",
      "i\n",
      "n\n",
      "c\n",
      "r\n",
      "í\n",
      "v\n",
      "e\n",
      "l\n"
     ]
    }
   ],
   "source": [
    "# Desconsideramos a letra z ao imprimir os caracteres da frase\n",
    "\n",
    "for letra in \"Python é zzz incrível\":\n",
    "    if letra ==\"z\":\n",
    "        continue\n",
    "    print(letra)"
   ]
  },
  {
   "cell_type": "markdown",
   "id": "1e1ea14d",
   "metadata": {},
   "source": [
    "### While e For Juntos"
   ]
  },
  {
   "cell_type": "markdown",
   "id": "c4a292f0",
   "metadata": {},
   "source": [
    "Vamos encontrar números primos em uma coleção de números usando loop While e For juntos\n",
    "\n",
    "Um número primo é um número natural maior do que 1 que é divísivel por 1 e por ele mesmo. Isso significa que não há nenum outro número inteiro que possa dividir o número primo sem deixar resto. Por exemplo, o número 2 é primo, pois ele é divisivel apenas por 1 e 2. O número 4 não é primo, pois ele é divísivel por 2"
   ]
  },
  {
   "cell_type": "markdown",
   "id": "9788a0da",
   "metadata": {},
   "source": [
    "Pseudocódigo:\n",
    "\n",
    "Inicialize uma lista vazia para armazenar os números primos\n",
    "Para cada número N entre 2 e 30:\n",
    "        Inicialize uma variável eh_primo como verdadeira\n",
    "        Para cada número i entre 2 e n/2:\n",
    "                Se N é divisivel por i, então:\n",
    "                    Altere a variável eh_primo para falso\n",
    "                    Pare de verificar os outros números\n",
    "        Se a variável eh_primo ainda é verdadeira, adicione na lista de números primos\n",
    "Imprima a lista de números primos"
   ]
  },
  {
   "cell_type": "code",
   "execution_count": 3,
   "id": "d2211eb5",
   "metadata": {},
   "outputs": [
    {
     "name": "stdout",
     "output_type": "stream",
     "text": [
      "[2, 3, 5, 7, 11, 13, 17, 19, 23, 29]\n"
     ]
    }
   ],
   "source": [
    "# Exemplo 1\n",
    "\n",
    "# Encontrando números primos entre 2 e 30 usando loop for e while\n",
    "\n",
    "# Variável para armazenar números primos\n",
    "\n",
    "primos =[]\n",
    "\n",
    "# Loop for para percorrer os números de 2 a 30\n",
    "\n",
    "for num in range (2,31):\n",
    "    \n",
    "    # Variável de controle\n",
    "    eh_primo = True\n",
    "    \n",
    "    # Loop while para  verificar se o número é primo\n",
    "    i = 2\n",
    "    while i <= num // 2:\n",
    "        if num % i == 0:\n",
    "            eh_primo = False\n",
    "            break\n",
    "            \n",
    "        i += 1\n",
    "    \n",
    "    # Adicionando o número primo na lista\n",
    "    \n",
    "    if eh_primo:\n",
    "        primos.append(num)\n",
    "        \n",
    "# Imprimindo a lista de números primos\n",
    "\n",
    "print(primos)"
   ]
  },
  {
   "cell_type": "code",
   "execution_count": 4,
   "id": "a83f88b8",
   "metadata": {},
   "outputs": [
    {
     "name": "stdout",
     "output_type": "stream",
     "text": [
      "2é um número primo\n",
      "3é um número primo\n",
      "5é um número primo\n",
      "7é um número primo\n",
      "11é um número primo\n",
      "13é um número primo\n",
      "17é um número primo\n",
      "19é um número primo\n",
      "23é um número primo\n",
      "29é um número primo\n"
     ]
    }
   ],
   "source": [
    "# Exemplo 2\n",
    "\n",
    "# Encontrando números primos entre 2 e 30 usando loop for e while\n",
    "\n",
    "# loop for para percorrer números de 2 a 30\n",
    "\n",
    "for i in range(2,31):\n",
    "    \n",
    "    # Variável de controle\n",
    "    \n",
    "    j = 2\n",
    "    \n",
    "    # Contador\n",
    "    \n",
    "    valor = 0\n",
    "    \n",
    "    # Loop While para verificar se o número é primo\n",
    "    \n",
    "    while j < i:\n",
    "        if i % j == 0:\n",
    "            valor = 1\n",
    "            j = j + 1\n",
    "        else:\n",
    "            j = j + 1\n",
    "            \n",
    "    if valor == 0:\n",
    "        print(str(i) + \"é um número primo\")\n",
    "        valor = 0\n",
    "        \n",
    "    else:\n",
    "        valor = 0"
   ]
  },
  {
   "cell_type": "code",
   "execution_count": null,
   "id": "c62a5f4c",
   "metadata": {},
   "outputs": [],
   "source": []
  }
 ],
 "metadata": {
  "kernelspec": {
   "display_name": "Python 3 (ipykernel)",
   "language": "python",
   "name": "python3"
  },
  "language_info": {
   "codemirror_mode": {
    "name": "ipython",
    "version": 3
   },
   "file_extension": ".py",
   "mimetype": "text/x-python",
   "name": "python",
   "nbconvert_exporter": "python",
   "pygments_lexer": "ipython3",
   "version": "3.11.5"
  }
 },
 "nbformat": 4,
 "nbformat_minor": 5
}
