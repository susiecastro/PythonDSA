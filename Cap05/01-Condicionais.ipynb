{
 "cells": [
  {
   "cell_type": "markdown",
   "id": "101352c5",
   "metadata": {},
   "source": [
    "### Condicional IF"
   ]
  },
  {
   "cell_type": "code",
   "execution_count": 1,
   "id": "c878c8a2",
   "metadata": {},
   "outputs": [
    {
     "name": "stdout",
     "output_type": "stream",
     "text": [
      "A sentença é verdadeira\n"
     ]
    }
   ],
   "source": [
    "# Condicional IF\n",
    "if 5>2:\n",
    "    print(\"A sentença é verdadeira\")"
   ]
  },
  {
   "cell_type": "code",
   "execution_count": 2,
   "id": "512aa748",
   "metadata": {},
   "outputs": [
    {
     "name": "stdout",
     "output_type": "stream",
     "text": [
      "A setença é falsa\n"
     ]
    }
   ],
   "source": [
    "#Condicional IF...Else\n",
    "if 5<2:\n",
    "    print('A sentença é verdadeira')\n",
    "else:\n",
    "    print(\"A setença é falsa\")"
   ]
  },
  {
   "cell_type": "code",
   "execution_count": 5,
   "id": "fdce381a",
   "metadata": {},
   "outputs": [
    {
     "name": "stdout",
     "output_type": "stream",
     "text": [
      "Hoje vai chover\n"
     ]
    }
   ],
   "source": [
    "#Condicional IF....Else com variável\n",
    "dia =\"Terça\"\n",
    "if dia ==\"Segunda\":\n",
    "    print(\"Hoje fará sol\")\n",
    "else:\n",
    "    print(\"Hoje vai chover\")"
   ]
  },
  {
   "cell_type": "code",
   "execution_count": 6,
   "id": "6576ac68",
   "metadata": {},
   "outputs": [
    {
     "name": "stdout",
     "output_type": "stream",
     "text": [
      "Hoje vai chover\n"
     ]
    }
   ],
   "source": [
    "#Podemos usar o operador elif para validar mais de uma condição\n",
    "\n",
    "if dia ==\"Segunda\":\n",
    "    print(\"Hoje fará sol\")\n",
    "elif dia ==\"Terça\":\n",
    "    print(\"Hoje vai chover\")\n",
    "else:\n",
    "    print(\"Sem previsão de tempo para o dia selecionado\")"
   ]
  },
  {
   "cell_type": "markdown",
   "id": "98879dc5",
   "metadata": {},
   "source": [
    "### Operadores relacionais"
   ]
  },
  {
   "cell_type": "code",
   "execution_count": 7,
   "id": "608ef683",
   "metadata": {},
   "outputs": [
    {
     "data": {
      "text/plain": [
       "True"
      ]
     },
     "execution_count": 7,
     "metadata": {},
     "output_type": "execute_result"
    }
   ],
   "source": [
    "6>3"
   ]
  },
  {
   "cell_type": "code",
   "execution_count": 8,
   "id": "ce0a1805",
   "metadata": {},
   "outputs": [
    {
     "data": {
      "text/plain": [
       "False"
      ]
     },
     "execution_count": 8,
     "metadata": {},
     "output_type": "execute_result"
    }
   ],
   "source": [
    "3>7"
   ]
  },
  {
   "cell_type": "code",
   "execution_count": 9,
   "id": "1d74d5a6",
   "metadata": {},
   "outputs": [
    {
     "data": {
      "text/plain": [
       "True"
      ]
     },
     "execution_count": 9,
     "metadata": {},
     "output_type": "execute_result"
    }
   ],
   "source": [
    "4<8"
   ]
  },
  {
   "cell_type": "code",
   "execution_count": 10,
   "id": "1c78058b",
   "metadata": {},
   "outputs": [
    {
     "data": {
      "text/plain": [
       "True"
      ]
     },
     "execution_count": 10,
     "metadata": {},
     "output_type": "execute_result"
    }
   ],
   "source": [
    "4>=4"
   ]
  },
  {
   "cell_type": "code",
   "execution_count": 11,
   "id": "e3abdb14",
   "metadata": {},
   "outputs": [
    {
     "name": "stdout",
     "output_type": "stream",
     "text": [
      "Testando Python\n"
     ]
    }
   ],
   "source": [
    "if 5 ==5:\n",
    "    print(\"Testando Python\")"
   ]
  },
  {
   "cell_type": "code",
   "execution_count": 13,
   "id": "e7f7c2f2",
   "metadata": {},
   "outputs": [
    {
     "name": "stdout",
     "output_type": "stream",
     "text": [
      "Parece que Python funciona\n"
     ]
    }
   ],
   "source": [
    "if True:\n",
    "    print('Parece que Python funciona')"
   ]
  },
  {
   "cell_type": "code",
   "execution_count": 14,
   "id": "b272a6da",
   "metadata": {},
   "outputs": [
    {
     "ename": "SyntaxError",
     "evalue": "expected ':' (1235617182.py, line 2)",
     "output_type": "error",
     "traceback": [
      "\u001b[1;36m  Cell \u001b[1;32mIn[14], line 2\u001b[1;36m\u001b[0m\n\u001b[1;33m    if 4>3\u001b[0m\n\u001b[1;37m          ^\u001b[0m\n\u001b[1;31mSyntaxError\u001b[0m\u001b[1;31m:\u001b[0m expected ':'\n"
     ]
    }
   ],
   "source": [
    "# Atenção com a sintaxe - Faltou os dois pontos depois do 3\n",
    "if 4>3\n",
    "    print(\"Tudo funciona\")"
   ]
  },
  {
   "cell_type": "code",
   "execution_count": 18,
   "id": "806934bf",
   "metadata": {},
   "outputs": [
    {
     "ename": "IndentationError",
     "evalue": "expected an indented block after 'if' statement on line 2 (919313075.py, line 3)",
     "output_type": "error",
     "traceback": [
      "\u001b[1;36m  Cell \u001b[1;32mIn[18], line 3\u001b[1;36m\u001b[0m\n\u001b[1;33m    print(\"Tudo funciona\")\u001b[0m\n\u001b[1;37m    ^\u001b[0m\n\u001b[1;31mIndentationError\u001b[0m\u001b[1;31m:\u001b[0m expected an indented block after 'if' statement on line 2\n"
     ]
    }
   ],
   "source": [
    "# Atenção com a sintaxe - Faltou a identação\n",
    "if 4 > 3:\n",
    "print(\"Tudo funciona\")"
   ]
  },
  {
   "cell_type": "code",
   "execution_count": 17,
   "id": "36a69ca6",
   "metadata": {},
   "outputs": [
    {
     "name": "stdout",
     "output_type": "stream",
     "text": [
      "Tudo funciona\n"
     ]
    }
   ],
   "source": [
    "# Atenção com a sintaxe - Correta\n",
    "if 4 > 3:\n",
    "    print(\"Tudo funciona\")"
   ]
  },
  {
   "cell_type": "markdown",
   "id": "9d6e11f7",
   "metadata": {},
   "source": [
    "### Condicionais Aninhados"
   ]
  },
  {
   "cell_type": "code",
   "execution_count": 19,
   "id": "5e5470d4",
   "metadata": {},
   "outputs": [
    {
     "name": "stdout",
     "output_type": "stream",
     "text": [
      "Você pode dirigir\n"
     ]
    }
   ],
   "source": [
    "idade = 18\n",
    "if idade >17:\n",
    "    print(\"Você pode dirigir\")"
   ]
  },
  {
   "cell_type": "code",
   "execution_count": 20,
   "id": "255c4da1",
   "metadata": {},
   "outputs": [
    {
     "name": "stdout",
     "output_type": "stream",
     "text": [
      "Ok Bob, você estará autorizado a entrar!\n"
     ]
    }
   ],
   "source": [
    "Nome = \"Bob\"\n",
    "if idade > 13:\n",
    "    if Nome ==\"Bob\":\n",
    "        print(\"Ok Bob, você estará autorizado a entrar!\")\n",
    "    else:\n",
    "        print(\"Desculpe, mas você  não pode entrar\")"
   ]
  },
  {
   "cell_type": "code",
   "execution_count": 22,
   "id": "fbdeb308",
   "metadata": {},
   "outputs": [
    {
     "name": "stdout",
     "output_type": "stream",
     "text": [
      "Ok Bob, você está autorizado a entrar\n"
     ]
    }
   ],
   "source": [
    "idade = 13\n",
    "nome =\"Bob\"\n",
    "if idade>=13 and nome==\"Bob\":\n",
    "    print(\"Ok Bob, você está autorizado a entrar\")"
   ]
  },
  {
   "cell_type": "code",
   "execution_count": 23,
   "id": "a752d0dc",
   "metadata": {},
   "outputs": [
    {
     "name": "stdout",
     "output_type": "stream",
     "text": [
      "Ok Bob, você está autorizado a entrar\n"
     ]
    }
   ],
   "source": [
    "idade = 12\n",
    "Nome =\"Bob\"\n",
    "if idade >= 13 or nome == \"Bob\":\n",
    "    print(\"Ok Bob, você está autorizado a entrar\")"
   ]
  },
  {
   "cell_type": "markdown",
   "id": "43560309",
   "metadata": {},
   "source": [
    "### Operadores lógicos"
   ]
  },
  {
   "cell_type": "code",
   "execution_count": 4,
   "id": "9b10a331",
   "metadata": {},
   "outputs": [
    {
     "name": "stdout",
     "output_type": "stream",
     "text": [
      "Isso está sendo impresso porque as duas condições são verdadeiras\n"
     ]
    }
   ],
   "source": [
    "# Operador and\n",
    "numero = 4\n",
    "\n",
    "if (numero > 2) and (numero % 2 ==0):\n",
    "    print(\"Isso está sendo impresso porque as duas condições são verdadeiras\")"
   ]
  },
  {
   "cell_type": "code",
   "execution_count": 5,
   "id": "1e680351",
   "metadata": {},
   "outputs": [
    {
     "name": "stdout",
     "output_type": "stream",
     "text": [
      "Isso está sendo impresso porque uma das condições é falsa\n"
     ]
    }
   ],
   "source": [
    "# Operador and\n",
    "numero = 4\n",
    "\n",
    "if (numero > 5) and (numero % 2 ==0):\n",
    "    print(\"Isso está sendo impresso porque as duas condições são verdadeiras\")\n",
    "else:\n",
    "    print(\"Isso está sendo impresso porque uma das condições é falsa\")"
   ]
  },
  {
   "cell_type": "code",
   "execution_count": 6,
   "id": "8403d5cf",
   "metadata": {},
   "outputs": [
    {
     "name": "stdout",
     "output_type": "stream",
     "text": [
      "Isso está sendo impresso porque uma das condições é verdadeira\n"
     ]
    }
   ],
   "source": [
    "# Operador or\n",
    "numero = 4\n",
    "\n",
    "if(numero > 5) or (numero % 2 ==0):\n",
    "    print(\"Isso está sendo impresso porque uma das condições é verdadeira\")"
   ]
  },
  {
   "cell_type": "code",
   "execution_count": 7,
   "id": "3d94802f",
   "metadata": {},
   "outputs": [
    {
     "name": "stdout",
     "output_type": "stream",
     "text": [
      "Isso está sendo impresso proque as duas condições são verdadeiras\n"
     ]
    }
   ],
   "source": [
    "# Operador not\n",
    "numero = 4\n",
    "\n",
    "if not(numero>5)and(numero %2==0):\n",
    "    print(\"Isso está sendo impresso proque as duas condições são verdadeiras\")\n",
    "else:\n",
    "    print(\"Isso está sendo impresso porque uma das duas condições é falsa\")"
   ]
  },
  {
   "cell_type": "code",
   "execution_count": 8,
   "id": "410b5d27",
   "metadata": {},
   "outputs": [
    {
     "name": "stdout",
     "output_type": "stream",
     "text": [
      "Isso está sendo impresso porque as duas primeiras condições são verdadeiras ou a tercerira é verdadeira\n"
     ]
    }
   ],
   "source": [
    "# Operador and, or e not\n",
    "\n",
    "numero = 4\n",
    "\n",
    "if (not(numero>5) and (numero %2 == 0)) or (numero ==4):\n",
    "    print(\"Isso está sendo impresso porque as duas primeiras condições são verdadeiras ou a tercerira é verdadeira\")"
   ]
  },
  {
   "cell_type": "code",
   "execution_count": 9,
   "id": "39c7d3bb",
   "metadata": {},
   "outputs": [
    {
     "name": "stdout",
     "output_type": "stream",
     "text": [
      "Você foi aprovado\n"
     ]
    }
   ],
   "source": [
    "# Exemplo com o uso de variáveis\n",
    "\n",
    "disciplina = 'Data Science'\n",
    "nota_final = 70\n",
    "\n",
    "if disciplina == 'Data Science' and nota_final >= 70:\n",
    "    print(\"Você foi aprovado\")\n",
    "else:\n",
    "    print(\"Lamento, acho que você precisa estudar mais\")"
   ]
  },
  {
   "cell_type": "code",
   "execution_count": 11,
   "id": "484aa672",
   "metadata": {},
   "outputs": [
    {
     "name": "stdout",
     "output_type": "stream",
     "text": [
      "Lamento, acho que você precisa estudar mais\n"
     ]
    }
   ],
   "source": [
    "# Usando mais de uma condição na clausula if\n",
    "\n",
    "disciplina =\"Data Science\"\n",
    "nota_final =60\n",
    "\n",
    "if disciplina == 'Data Science' and nota_final >= 70:\n",
    "    print(\"Você foi aprovado\")\n",
    "else:\n",
    "    print(\"Lamento, acho que você precisa estudar mais\")"
   ]
  },
  {
   "cell_type": "code",
   "execution_count": 12,
   "id": "f6eddb69",
   "metadata": {},
   "outputs": [
    {
     "name": "stdout",
     "output_type": "stream",
     "text": [
      "Você foi aprovado em Data Science com media final de 90!\n"
     ]
    }
   ],
   "source": [
    "# Usando mais de uma clausula if e introduzindo Placeholders\n",
    "\n",
    "disciplina= \"Data Science\"\n",
    "nota_final = 90\n",
    "semestre = 2\n",
    "\n",
    "if disciplina ==\"Data Science\" and nota_final >=80 and semestre !=1:\n",
    "    print(\"Você foi aprovado em %s com media final de %r!\"%(disciplina,nota_final))\n",
    "else:\n",
    "    print(\"Lamento, acho que você precisa estudar mais\")"
   ]
  },
  {
   "cell_type": "code",
   "execution_count": null,
   "id": "49003348",
   "metadata": {},
   "outputs": [],
   "source": []
  }
 ],
 "metadata": {
  "kernelspec": {
   "display_name": "Python 3 (ipykernel)",
   "language": "python",
   "name": "python3"
  },
  "language_info": {
   "codemirror_mode": {
    "name": "ipython",
    "version": 3
   },
   "file_extension": ".py",
   "mimetype": "text/x-python",
   "name": "python",
   "nbconvert_exporter": "python",
   "pygments_lexer": "ipython3",
   "version": "3.11.5"
  }
 },
 "nbformat": 4,
 "nbformat_minor": 5
}
