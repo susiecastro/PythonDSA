{
 "cells": [
  {
   "cell_type": "markdown",
   "id": "0eba57b8",
   "metadata": {},
   "source": [
    "### List Comprehension"
   ]
  },
  {
   "cell_type": "code",
   "execution_count": 1,
   "id": "c200e13b",
   "metadata": {},
   "outputs": [
    {
     "data": {
      "text/plain": [
       "[0, 1, 2, 3, 4, 5, 6, 7, 8, 9]"
      ]
     },
     "execution_count": 1,
     "metadata": {},
     "output_type": "execute_result"
    }
   ],
   "source": [
    "# List comprehension que immprime os números até 10\n",
    "[x for x in range (10)]"
   ]
  },
  {
   "cell_type": "code",
   "execution_count": 2,
   "id": "c1a7af01",
   "metadata": {},
   "outputs": [],
   "source": [
    "# List comprehension que imprime os números até 10 e grava em uma lista Python\n",
    "lista_numeros = [x for x in range(10)]"
   ]
  },
  {
   "cell_type": "code",
   "execution_count": 3,
   "id": "0baea38c",
   "metadata": {},
   "outputs": [
    {
     "name": "stdout",
     "output_type": "stream",
     "text": [
      "[0, 1, 2, 3, 4, 5, 6, 7, 8, 9]\n"
     ]
    }
   ],
   "source": [
    "print(lista_numeros)"
   ]
  },
  {
   "cell_type": "code",
   "execution_count": 4,
   "id": "f75a1d32",
   "metadata": {},
   "outputs": [],
   "source": [
    "# List comprehension que imprime os números menores que 5 em um intervalo de 1 a 10\n",
    "lista_numeros2 = [x for x in range (10) if x <5]"
   ]
  },
  {
   "cell_type": "code",
   "execution_count": 5,
   "id": "6f9a82f1",
   "metadata": {},
   "outputs": [
    {
     "name": "stdout",
     "output_type": "stream",
     "text": [
      "[0, 1, 2, 3, 4]\n"
     ]
    }
   ],
   "source": [
    "print(lista_numeros2)"
   ]
  },
  {
   "cell_type": "code",
   "execution_count": 6,
   "id": "36fc166b",
   "metadata": {},
   "outputs": [],
   "source": [
    "# Lista de frutas\n",
    "\n",
    "lista_frutas = ['banana','abacate', 'melancia','cereja','manga']\n",
    "\n",
    "# Nova lista\n",
    "nova_lista = []"
   ]
  },
  {
   "cell_type": "code",
   "execution_count": 9,
   "id": "7ad9e40c",
   "metadata": {},
   "outputs": [
    {
     "name": "stdout",
     "output_type": "stream",
     "text": [
      "['melancia', 'manga']\n"
     ]
    }
   ],
   "source": [
    "# Loop tradicional para buscar as palavras com letra m\n",
    "for x in lista_frutas:\n",
    "    if \"m\" in x:\n",
    "        nova_lista.append(x)\n",
    "print(nova_lista)"
   ]
  },
  {
   "cell_type": "code",
   "execution_count": 12,
   "id": "9d4a05e7",
   "metadata": {},
   "outputs": [],
   "source": [
    "# Mesmo resultado anterior mais com list comprehension\n",
    "nova_lista2 = [x for x in lista_frutas if \"m\" in x]"
   ]
  },
  {
   "cell_type": "code",
   "execution_count": 14,
   "id": "bae7538c",
   "metadata": {},
   "outputs": [
    {
     "name": "stdout",
     "output_type": "stream",
     "text": [
      "['melancia', 'manga']\n"
     ]
    }
   ],
   "source": [
    "print(nova_lista2)"
   ]
  },
  {
   "cell_type": "code",
   "execution_count": 15,
   "id": "735f232d",
   "metadata": {},
   "outputs": [
    {
     "name": "stdout",
     "output_type": "stream",
     "text": [
      "{'Bob': 68, 'Michel': 84, 'Zico': 57, 'Ana': 93}\n"
     ]
    }
   ],
   "source": [
    "# Dict comprehension\n",
    "\n",
    "# Dicionário de alunos e notas\n",
    "dict_alunos = {\"Bob\":68, \"Michel\":84, \"Zico\":57, \"Ana\":93}\n",
    "\n",
    "# Criamos um novo dicionário imprimindo os pares chave:valor\n",
    "dict_alunos_status = {k:v for (k,v) in dict_alunos.items()}\n",
    "\n",
    "print(dict_alunos_status)"
   ]
  },
  {
   "cell_type": "code",
   "execution_count": 17,
   "id": "cc1fb57c",
   "metadata": {},
   "outputs": [
    {
     "name": "stdout",
     "output_type": "stream",
     "text": [
      "{'Bob': 'Reprovado', 'Michel': 'Aprovado', 'Zico': 'Reprovado', 'Ana': 'Aprovado'}\n"
     ]
    }
   ],
   "source": [
    "# Dict comprehension\n",
    "\n",
    "# Dicionario de alunos e notas\n",
    "dict_alunos = {\"Bob\":68, \"Michel\":84, \"Zico\":57, \"Ana\":93}\n",
    "\n",
    "# Criamos um novo dicionário imprimindo os pares chave:valor\n",
    "dict_alunos_status = {k:(\"Aprovado\" if v > 70 else \"Reprovado\") for (k,v) in dict_alunos.items()}\n",
    "\n",
    "print(dict_alunos_status)"
   ]
  },
  {
   "cell_type": "code",
   "execution_count": null,
   "id": "dae0db7d",
   "metadata": {},
   "outputs": [],
   "source": []
  }
 ],
 "metadata": {
  "kernelspec": {
   "display_name": "Python 3 (ipykernel)",
   "language": "python",
   "name": "python3"
  },
  "language_info": {
   "codemirror_mode": {
    "name": "ipython",
    "version": 3
   },
   "file_extension": ".py",
   "mimetype": "text/x-python",
   "name": "python",
   "nbconvert_exporter": "python",
   "pygments_lexer": "ipython3",
   "version": "3.11.5"
  }
 },
 "nbformat": 4,
 "nbformat_minor": 5
}
