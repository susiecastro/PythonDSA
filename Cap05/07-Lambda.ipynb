{
 "cells": [
  {
   "cell_type": "markdown",
   "id": "a52e6e63",
   "metadata": {},
   "source": [
    "### Expressão Lambda"
   ]
  },
  {
   "cell_type": "code",
   "execution_count": 1,
   "id": "584b9540",
   "metadata": {},
   "outputs": [],
   "source": [
    "# Definindo  uma função - 3 linhas de código\n",
    "def potencia (num):\n",
    "    resultado = num **2\n",
    "    return resultado"
   ]
  },
  {
   "cell_type": "code",
   "execution_count": 2,
   "id": "da4ba83e",
   "metadata": {},
   "outputs": [
    {
     "data": {
      "text/plain": [
       "25"
      ]
     },
     "execution_count": 2,
     "metadata": {},
     "output_type": "execute_result"
    }
   ],
   "source": [
    "potencia(5)"
   ]
  },
  {
   "cell_type": "code",
   "execution_count": 5,
   "id": "f51839c3",
   "metadata": {},
   "outputs": [],
   "source": [
    "# Definindo uma função - 2 linhas de código\n",
    "def potencia (num):\n",
    "    return num ** 2"
   ]
  },
  {
   "cell_type": "code",
   "execution_count": 6,
   "id": "da47bee3",
   "metadata": {},
   "outputs": [
    {
     "data": {
      "text/plain": [
       "25"
      ]
     },
     "execution_count": 6,
     "metadata": {},
     "output_type": "execute_result"
    }
   ],
   "source": [
    "potencia(5)"
   ]
  },
  {
   "cell_type": "code",
   "execution_count": 7,
   "id": "045e4987",
   "metadata": {},
   "outputs": [],
   "source": [
    "# Definindo uma função - 1 linha de código\n",
    "def potencia (num): return num** 2"
   ]
  },
  {
   "cell_type": "code",
   "execution_count": 8,
   "id": "9b511f25",
   "metadata": {},
   "outputs": [
    {
     "data": {
      "text/plain": [
       "625"
      ]
     },
     "execution_count": 8,
     "metadata": {},
     "output_type": "execute_result"
    }
   ],
   "source": [
    "potencia(25)"
   ]
  },
  {
   "cell_type": "code",
   "execution_count": 9,
   "id": "e79c3828",
   "metadata": {},
   "outputs": [],
   "source": [
    "# Definindo uma função lambda (função anônima)\n",
    "potencia2 = lambda num: num ** 2"
   ]
  },
  {
   "cell_type": "code",
   "execution_count": 10,
   "id": "2969a0f5",
   "metadata": {},
   "outputs": [
    {
     "data": {
      "text/plain": [
       "625"
      ]
     },
     "execution_count": 10,
     "metadata": {},
     "output_type": "execute_result"
    }
   ],
   "source": [
    "potencia2(25)"
   ]
  },
  {
   "cell_type": "code",
   "execution_count": 11,
   "id": "df6adfbe",
   "metadata": {},
   "outputs": [],
   "source": [
    "# Lembre: operadores de comparação retornam boolean: true or false\n",
    "Par = lambda x: x%2==0"
   ]
  },
  {
   "cell_type": "code",
   "execution_count": 12,
   "id": "f9cee0c8",
   "metadata": {},
   "outputs": [
    {
     "data": {
      "text/plain": [
       "False"
      ]
     },
     "execution_count": 12,
     "metadata": {},
     "output_type": "execute_result"
    }
   ],
   "source": [
    "Par(3)"
   ]
  },
  {
   "cell_type": "code",
   "execution_count": 13,
   "id": "4e1a6d59",
   "metadata": {},
   "outputs": [
    {
     "data": {
      "text/plain": [
       "True"
      ]
     },
     "execution_count": 13,
     "metadata": {},
     "output_type": "execute_result"
    }
   ],
   "source": [
    "Par(4)"
   ]
  },
  {
   "cell_type": "code",
   "execution_count": 16,
   "id": "591eceac",
   "metadata": {},
   "outputs": [],
   "source": [
    "first = lambda s: s[0]"
   ]
  },
  {
   "cell_type": "code",
   "execution_count": 17,
   "id": "4a876b5d",
   "metadata": {},
   "outputs": [
    {
     "data": {
      "text/plain": [
       "'P'"
      ]
     },
     "execution_count": 17,
     "metadata": {},
     "output_type": "execute_result"
    }
   ],
   "source": [
    "first('Python')"
   ]
  },
  {
   "cell_type": "code",
   "execution_count": 18,
   "id": "c9a1ff6b",
   "metadata": {},
   "outputs": [],
   "source": [
    "reverso = lambda s: s[::-1]"
   ]
  },
  {
   "cell_type": "code",
   "execution_count": 19,
   "id": "dc909913",
   "metadata": {},
   "outputs": [
    {
     "data": {
      "text/plain": [
       "'nohtyP'"
      ]
     },
     "execution_count": 19,
     "metadata": {},
     "output_type": "execute_result"
    }
   ],
   "source": [
    "reverso('Python')"
   ]
  },
  {
   "cell_type": "code",
   "execution_count": 20,
   "id": "2d72a297",
   "metadata": {},
   "outputs": [],
   "source": [
    "addNum = lambda x,y : x+y"
   ]
  },
  {
   "cell_type": "code",
   "execution_count": 21,
   "id": "5807fb73",
   "metadata": {},
   "outputs": [
    {
     "data": {
      "text/plain": [
       "7"
      ]
     },
     "execution_count": 21,
     "metadata": {},
     "output_type": "execute_result"
    }
   ],
   "source": [
    "addNum(3,4)"
   ]
  },
  {
   "cell_type": "code",
   "execution_count": null,
   "id": "3a8718ed",
   "metadata": {},
   "outputs": [],
   "source": []
  }
 ],
 "metadata": {
  "kernelspec": {
   "display_name": "Python 3 (ipykernel)",
   "language": "python",
   "name": "python3"
  },
  "language_info": {
   "codemirror_mode": {
    "name": "ipython",
    "version": 3
   },
   "file_extension": ".py",
   "mimetype": "text/x-python",
   "name": "python",
   "nbconvert_exporter": "python",
   "pygments_lexer": "ipython3",
   "version": "3.11.5"
  }
 },
 "nbformat": 4,
 "nbformat_minor": 5
}
