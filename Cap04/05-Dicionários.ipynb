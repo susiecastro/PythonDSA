{
 "cells": [
  {
   "cell_type": "markdown",
   "id": "ccdcc6cc",
   "metadata": {},
   "source": [
    "### Trabalhando com Dicionários"
   ]
  },
  {
   "cell_type": "code",
   "execution_count": 4,
   "id": "9efcbaba",
   "metadata": {},
   "outputs": [],
   "source": [
    "# Isso é um dicionário\n",
    "estudantes_dict = {\"Pedro\":24,\"Ana\":22,\"Ronaldo\":26,\"Janaina\":25}"
   ]
  },
  {
   "cell_type": "code",
   "execution_count": 3,
   "id": "6601183d",
   "metadata": {},
   "outputs": [
    {
     "data": {
      "text/plain": [
       "{'Pedro': 24, 'Ana': 22, 'Ronaldo': 26, 'Janaina': 25}"
      ]
     },
     "execution_count": 3,
     "metadata": {},
     "output_type": "execute_result"
    }
   ],
   "source": [
    "estudantes_dict"
   ]
  },
  {
   "cell_type": "code",
   "execution_count": 5,
   "id": "1b870af1",
   "metadata": {},
   "outputs": [
    {
     "data": {
      "text/plain": [
       "24"
      ]
     },
     "execution_count": 5,
     "metadata": {},
     "output_type": "execute_result"
    }
   ],
   "source": [
    "estudantes_dict[\"Pedro\"]"
   ]
  },
  {
   "cell_type": "code",
   "execution_count": 6,
   "id": "d7ac26c5",
   "metadata": {},
   "outputs": [],
   "source": [
    "estudantes_dict[\"Marcelo\"]=23"
   ]
  },
  {
   "cell_type": "code",
   "execution_count": 8,
   "id": "d6491079",
   "metadata": {},
   "outputs": [
    {
     "data": {
      "text/plain": [
       "23"
      ]
     },
     "execution_count": 8,
     "metadata": {},
     "output_type": "execute_result"
    }
   ],
   "source": [
    "estudantes_dict[\"Marcelo\"]"
   ]
  },
  {
   "cell_type": "code",
   "execution_count": 10,
   "id": "c198535a",
   "metadata": {},
   "outputs": [],
   "source": [
    "estudantes_dict.clear()"
   ]
  },
  {
   "cell_type": "code",
   "execution_count": 11,
   "id": "92d07275",
   "metadata": {},
   "outputs": [
    {
     "data": {
      "text/plain": [
       "{}"
      ]
     },
     "execution_count": 11,
     "metadata": {},
     "output_type": "execute_result"
    }
   ],
   "source": [
    "estudantes_dict"
   ]
  },
  {
   "cell_type": "code",
   "execution_count": 12,
   "id": "4df34848",
   "metadata": {},
   "outputs": [],
   "source": [
    "estudantes_dict = {'Pedro': 24, 'Ana': 22, 'Ronaldo': 26, 'Janaina': 25}"
   ]
  },
  {
   "cell_type": "code",
   "execution_count": 13,
   "id": "00b99d09",
   "metadata": {},
   "outputs": [
    {
     "data": {
      "text/plain": [
       "{'Pedro': 24, 'Ana': 22, 'Ronaldo': 26, 'Janaina': 25}"
      ]
     },
     "execution_count": 13,
     "metadata": {},
     "output_type": "execute_result"
    }
   ],
   "source": [
    "estudantes_dict"
   ]
  },
  {
   "cell_type": "code",
   "execution_count": 14,
   "id": "1829bd03",
   "metadata": {},
   "outputs": [
    {
     "data": {
      "text/plain": [
       "4"
      ]
     },
     "execution_count": 14,
     "metadata": {},
     "output_type": "execute_result"
    }
   ],
   "source": [
    "len(estudantes_dict)"
   ]
  },
  {
   "cell_type": "code",
   "execution_count": 15,
   "id": "36e51617",
   "metadata": {},
   "outputs": [
    {
     "data": {
      "text/plain": [
       "dict_keys(['Pedro', 'Ana', 'Ronaldo', 'Janaina'])"
      ]
     },
     "execution_count": 15,
     "metadata": {},
     "output_type": "execute_result"
    }
   ],
   "source": [
    "estudantes_dict.keys()"
   ]
  },
  {
   "cell_type": "code",
   "execution_count": 16,
   "id": "14d8e9aa",
   "metadata": {},
   "outputs": [
    {
     "data": {
      "text/plain": [
       "dict_values([24, 22, 26, 25])"
      ]
     },
     "execution_count": 16,
     "metadata": {},
     "output_type": "execute_result"
    }
   ],
   "source": [
    "estudantes_dict.values()"
   ]
  },
  {
   "cell_type": "code",
   "execution_count": 17,
   "id": "9038ddde",
   "metadata": {},
   "outputs": [
    {
     "data": {
      "text/plain": [
       "dict_items([('Pedro', 24), ('Ana', 22), ('Ronaldo', 26), ('Janaina', 25)])"
      ]
     },
     "execution_count": 17,
     "metadata": {},
     "output_type": "execute_result"
    }
   ],
   "source": [
    "estudantes_dict.items()"
   ]
  },
  {
   "cell_type": "code",
   "execution_count": 18,
   "id": "a08117bc",
   "metadata": {},
   "outputs": [],
   "source": [
    "estudantes2_dict ={\"Camila\":27,\"Adriana\":28,\"Roberta\":26}"
   ]
  },
  {
   "cell_type": "code",
   "execution_count": 19,
   "id": "56130cab",
   "metadata": {},
   "outputs": [
    {
     "data": {
      "text/plain": [
       "{'Camila': 27, 'Adriana': 28, 'Roberta': 26}"
      ]
     },
     "execution_count": 19,
     "metadata": {},
     "output_type": "execute_result"
    }
   ],
   "source": [
    "estudantes2_dict"
   ]
  },
  {
   "cell_type": "code",
   "execution_count": 20,
   "id": "fb788385",
   "metadata": {},
   "outputs": [],
   "source": [
    "estudantes_dict.update(estudantes2_dict)"
   ]
  },
  {
   "cell_type": "code",
   "execution_count": 21,
   "id": "6c84c154",
   "metadata": {},
   "outputs": [
    {
     "data": {
      "text/plain": [
       "{'Pedro': 24,\n",
       " 'Ana': 22,\n",
       " 'Ronaldo': 26,\n",
       " 'Janaina': 25,\n",
       " 'Camila': 27,\n",
       " 'Adriana': 28,\n",
       " 'Roberta': 26}"
      ]
     },
     "execution_count": 21,
     "metadata": {},
     "output_type": "execute_result"
    }
   ],
   "source": [
    "estudantes_dict"
   ]
  },
  {
   "cell_type": "code",
   "execution_count": 26,
   "id": "f4c5c5f7",
   "metadata": {},
   "outputs": [],
   "source": [
    "dic1 = {}"
   ]
  },
  {
   "cell_type": "code",
   "execution_count": 27,
   "id": "610126d9",
   "metadata": {},
   "outputs": [],
   "source": [
    "dic1[\"chave_um\"]=2"
   ]
  },
  {
   "cell_type": "code",
   "execution_count": 29,
   "id": "aab59d5d",
   "metadata": {},
   "outputs": [
    {
     "name": "stdout",
     "output_type": "stream",
     "text": [
      "{'chave_um': 2}\n"
     ]
    }
   ],
   "source": [
    "print(dic1)"
   ]
  },
  {
   "cell_type": "code",
   "execution_count": 30,
   "id": "23126aa5",
   "metadata": {},
   "outputs": [],
   "source": [
    "dic1[10]=5"
   ]
  },
  {
   "cell_type": "code",
   "execution_count": 31,
   "id": "dc2adc22",
   "metadata": {},
   "outputs": [],
   "source": [
    "dic1[9.13]=\"Python\""
   ]
  },
  {
   "cell_type": "code",
   "execution_count": 32,
   "id": "48ef0832",
   "metadata": {},
   "outputs": [
    {
     "data": {
      "text/plain": [
       "{'chave_um': 2, 10: 5, 9.13: 'Python'}"
      ]
     },
     "execution_count": 32,
     "metadata": {},
     "output_type": "execute_result"
    }
   ],
   "source": [
    "dic1"
   ]
  },
  {
   "cell_type": "code",
   "execution_count": 33,
   "id": "ee1ada92",
   "metadata": {},
   "outputs": [],
   "source": [
    "dic1[\"teste\"]=5"
   ]
  },
  {
   "cell_type": "code",
   "execution_count": 34,
   "id": "9eb7ad29",
   "metadata": {},
   "outputs": [
    {
     "data": {
      "text/plain": [
       "{'chave_um': 2, 10: 5, 9.13: 'Python', 'teste': 5}"
      ]
     },
     "execution_count": 34,
     "metadata": {},
     "output_type": "execute_result"
    }
   ],
   "source": [
    "dic1"
   ]
  },
  {
   "cell_type": "code",
   "execution_count": 35,
   "id": "369968b8",
   "metadata": {},
   "outputs": [],
   "source": [
    "dic1[\"teste\"]=10"
   ]
  },
  {
   "cell_type": "code",
   "execution_count": 36,
   "id": "1152cb3d",
   "metadata": {},
   "outputs": [],
   "source": [
    "dic1[\"key\"]=\"teste\""
   ]
  },
  {
   "cell_type": "code",
   "execution_count": 37,
   "id": "f4e90f47",
   "metadata": {},
   "outputs": [
    {
     "data": {
      "text/plain": [
       "{'chave_um': 2, 10: 5, 9.13: 'Python', 'teste': 10, 'key': 'teste'}"
      ]
     },
     "execution_count": 37,
     "metadata": {},
     "output_type": "execute_result"
    }
   ],
   "source": [
    "dic1"
   ]
  },
  {
   "cell_type": "code",
   "execution_count": 39,
   "id": "abbda3d4",
   "metadata": {},
   "outputs": [],
   "source": [
    "dict2={}"
   ]
  },
  {
   "cell_type": "code",
   "execution_count": 40,
   "id": "8bf91ddd",
   "metadata": {},
   "outputs": [],
   "source": [
    "dict2[\"key1\"]=\"Data Science\""
   ]
  },
  {
   "cell_type": "code",
   "execution_count": 41,
   "id": "33763f24",
   "metadata": {},
   "outputs": [],
   "source": [
    "dict2[\"key2\"]=10"
   ]
  },
  {
   "cell_type": "code",
   "execution_count": 43,
   "id": "c2502254",
   "metadata": {},
   "outputs": [],
   "source": [
    "dict2[\"key3\"]=100"
   ]
  },
  {
   "cell_type": "code",
   "execution_count": 44,
   "id": "4ff455bb",
   "metadata": {},
   "outputs": [],
   "source": [
    "a = dict2[\"key1\"]"
   ]
  },
  {
   "cell_type": "code",
   "execution_count": 45,
   "id": "0928212e",
   "metadata": {},
   "outputs": [],
   "source": [
    "b = dict2[\"key2\"]"
   ]
  },
  {
   "cell_type": "code",
   "execution_count": 46,
   "id": "97b1a194",
   "metadata": {},
   "outputs": [],
   "source": [
    "c = dict2[\"key3\"]"
   ]
  },
  {
   "cell_type": "code",
   "execution_count": 47,
   "id": "352baaea",
   "metadata": {},
   "outputs": [
    {
     "data": {
      "text/plain": [
       "('Data Science', 10, 100)"
      ]
     },
     "execution_count": 47,
     "metadata": {},
     "output_type": "execute_result"
    }
   ],
   "source": [
    "a,b,c"
   ]
  },
  {
   "cell_type": "code",
   "execution_count": 48,
   "id": "938f8ba8",
   "metadata": {},
   "outputs": [],
   "source": [
    "# Dicionário de listas\n",
    "dict3 = {\"chave1\":1230, \"chave2\":[22,453,73.4],'chave3':['picanha','fraldinha','alcatra']}"
   ]
  },
  {
   "cell_type": "code",
   "execution_count": 49,
   "id": "2f74d6e7",
   "metadata": {},
   "outputs": [
    {
     "data": {
      "text/plain": [
       "{'chave1': 1230,\n",
       " 'chave2': [22, 453, 73.4],\n",
       " 'chave3': ['picanha', 'fraldinha', 'alcatra']}"
      ]
     },
     "execution_count": 49,
     "metadata": {},
     "output_type": "execute_result"
    }
   ],
   "source": [
    "dict3"
   ]
  },
  {
   "cell_type": "code",
   "execution_count": 51,
   "id": "6e858808",
   "metadata": {},
   "outputs": [
    {
     "data": {
      "text/plain": [
       "[22, 453, 73.4]"
      ]
     },
     "execution_count": 51,
     "metadata": {},
     "output_type": "execute_result"
    }
   ],
   "source": [
    "dict3[\"chave2\"]"
   ]
  },
  {
   "cell_type": "code",
   "execution_count": 52,
   "id": "da840b44",
   "metadata": {},
   "outputs": [
    {
     "data": {
      "text/plain": [
       "'PICANHA'"
      ]
     },
     "execution_count": 52,
     "metadata": {},
     "output_type": "execute_result"
    }
   ],
   "source": [
    "#Acessando um item de uma lista dentro de um dicionario\n",
    "dict3['chave3'][0].upper()"
   ]
  },
  {
   "cell_type": "code",
   "execution_count": 53,
   "id": "82b71cc1",
   "metadata": {},
   "outputs": [],
   "source": [
    "var1 = dict3['chave2'][0]-2"
   ]
  },
  {
   "cell_type": "code",
   "execution_count": 54,
   "id": "bcf1bffc",
   "metadata": {},
   "outputs": [
    {
     "data": {
      "text/plain": [
       "20"
      ]
     },
     "execution_count": 54,
     "metadata": {},
     "output_type": "execute_result"
    }
   ],
   "source": [
    "var1"
   ]
  },
  {
   "cell_type": "code",
   "execution_count": 55,
   "id": "31b278a3",
   "metadata": {},
   "outputs": [],
   "source": [
    "dict3['chave2'][0]-=2"
   ]
  },
  {
   "cell_type": "code",
   "execution_count": 56,
   "id": "dde6363f",
   "metadata": {},
   "outputs": [
    {
     "data": {
      "text/plain": [
       "{'chave1': 1230,\n",
       " 'chave2': [20, 453, 73.4],\n",
       " 'chave3': ['picanha', 'fraldinha', 'alcatra']}"
      ]
     },
     "execution_count": 56,
     "metadata": {},
     "output_type": "execute_result"
    }
   ],
   "source": [
    "dict3"
   ]
  },
  {
   "cell_type": "code",
   "execution_count": 58,
   "id": "03c31d31",
   "metadata": {},
   "outputs": [],
   "source": [
    "# Criando dicionários aninhados\n",
    "dict_aninhado = {\"key1\":{\"key2_aninhada\":{\"key3_aninhada\":\"Dict aninhado em Python\"}}}"
   ]
  },
  {
   "cell_type": "code",
   "execution_count": 59,
   "id": "e232b2ba",
   "metadata": {},
   "outputs": [
    {
     "data": {
      "text/plain": [
       "{'key1': {'key2_aninhada': {'key3_aninhada': 'Dict aninhado em Python'}}}"
      ]
     },
     "execution_count": 59,
     "metadata": {},
     "output_type": "execute_result"
    }
   ],
   "source": [
    "dict_aninhado"
   ]
  },
  {
   "cell_type": "code",
   "execution_count": 61,
   "id": "e977287a",
   "metadata": {},
   "outputs": [
    {
     "data": {
      "text/plain": [
       "({'key2_aninhada': {'key3_aninhada': 'Dict aninhado em Python'}},\n",
       " ['key2_aninhada'],\n",
       " ['key3_aninhada'])"
      ]
     },
     "execution_count": 61,
     "metadata": {},
     "output_type": "execute_result"
    }
   ],
   "source": [
    "dict_aninhado[\"key1\"],[\"key2_aninhada\"],[\"key3_aninhada\"]"
   ]
  },
  {
   "cell_type": "code",
   "execution_count": null,
   "id": "3e7d1122",
   "metadata": {},
   "outputs": [],
   "source": []
  }
 ],
 "metadata": {
  "kernelspec": {
   "display_name": "Python 3 (ipykernel)",
   "language": "python",
   "name": "python3"
  },
  "language_info": {
   "codemirror_mode": {
    "name": "ipython",
    "version": 3
   },
   "file_extension": ".py",
   "mimetype": "text/x-python",
   "name": "python",
   "nbconvert_exporter": "python",
   "pygments_lexer": "ipython3",
   "version": "3.11.5"
  }
 },
 "nbformat": 4,
 "nbformat_minor": 5
}
