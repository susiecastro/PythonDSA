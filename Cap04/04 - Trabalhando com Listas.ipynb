{
 "cells": [
  {
   "cell_type": "markdown",
   "id": "037de3ff",
   "metadata": {},
   "source": [
    "### Trabalhando com Listas"
   ]
  },
  {
   "cell_type": "code",
   "execution_count": 4,
   "id": "26d995e0",
   "metadata": {},
   "outputs": [],
   "source": [
    "lista1=['arroz, frango, tomate, leite']"
   ]
  },
  {
   "cell_type": "code",
   "execution_count": 5,
   "id": "9ab63a90",
   "metadata": {},
   "outputs": [
    {
     "data": {
      "text/plain": [
       "list"
      ]
     },
     "execution_count": 5,
     "metadata": {},
     "output_type": "execute_result"
    }
   ],
   "source": [
    "type(lista1)"
   ]
  },
  {
   "cell_type": "code",
   "execution_count": 6,
   "id": "f24b0983",
   "metadata": {},
   "outputs": [
    {
     "name": "stdout",
     "output_type": "stream",
     "text": [
      "['arroz, frango, tomate, leite']\n"
     ]
    }
   ],
   "source": [
    "print(lista1)"
   ]
  },
  {
   "cell_type": "code",
   "execution_count": 7,
   "id": "4f0c43b6",
   "metadata": {},
   "outputs": [],
   "source": [
    "lista2=['arroz', 'frango', 'tomate', 'leite']"
   ]
  },
  {
   "cell_type": "code",
   "execution_count": 8,
   "id": "7bd07f88",
   "metadata": {},
   "outputs": [
    {
     "name": "stdout",
     "output_type": "stream",
     "text": [
      "['arroz', 'frango', 'tomate', 'leite']\n"
     ]
    }
   ],
   "source": [
    "print(lista2)"
   ]
  },
  {
   "cell_type": "code",
   "execution_count": 9,
   "id": "f399b585",
   "metadata": {},
   "outputs": [],
   "source": [
    "lista3=[23, 100, 'Cientista de Dados']"
   ]
  },
  {
   "cell_type": "code",
   "execution_count": 10,
   "id": "4754a487",
   "metadata": {},
   "outputs": [
    {
     "data": {
      "text/plain": [
       "list"
      ]
     },
     "execution_count": 10,
     "metadata": {},
     "output_type": "execute_result"
    }
   ],
   "source": [
    "type(lista3)"
   ]
  },
  {
   "cell_type": "code",
   "execution_count": 17,
   "id": "d931b0ea",
   "metadata": {},
   "outputs": [],
   "source": [
    "item1=lista3[0]\n",
    "item2=lista3[1]\n",
    "item3=lista3[2]"
   ]
  },
  {
   "cell_type": "code",
   "execution_count": 18,
   "id": "df34e195",
   "metadata": {},
   "outputs": [
    {
     "name": "stdout",
     "output_type": "stream",
     "text": [
      "23 100 Cientista de Dados\n"
     ]
    }
   ],
   "source": [
    "print(item1, item2, item3)"
   ]
  },
  {
   "cell_type": "markdown",
   "id": "ca9f8f86",
   "metadata": {},
   "source": [
    "### Atualizando Um Item da Lista"
   ]
  },
  {
   "cell_type": "code",
   "execution_count": 19,
   "id": "e6427b02",
   "metadata": {},
   "outputs": [
    {
     "data": {
      "text/plain": [
       "['arroz', 'frango', 'tomate', 'leite']"
      ]
     },
     "execution_count": 19,
     "metadata": {},
     "output_type": "execute_result"
    }
   ],
   "source": [
    "lista2"
   ]
  },
  {
   "cell_type": "code",
   "execution_count": 20,
   "id": "54258208",
   "metadata": {},
   "outputs": [],
   "source": [
    "lista2[2]='chocolate'"
   ]
  },
  {
   "cell_type": "code",
   "execution_count": 21,
   "id": "7068d0c8",
   "metadata": {},
   "outputs": [
    {
     "data": {
      "text/plain": [
       "['arroz', 'frango', 'chocolate', 'leite']"
      ]
     },
     "execution_count": 21,
     "metadata": {},
     "output_type": "execute_result"
    }
   ],
   "source": [
    "lista2"
   ]
  },
  {
   "cell_type": "markdown",
   "id": "dce6aa27",
   "metadata": {},
   "source": [
    "### Deletando um item da lista"
   ]
  },
  {
   "cell_type": "code",
   "execution_count": 22,
   "id": "c75d634a",
   "metadata": {},
   "outputs": [
    {
     "ename": "IndexError",
     "evalue": "list assignment index out of range",
     "output_type": "error",
     "traceback": [
      "\u001b[1;31m---------------------------------------------------------------------------\u001b[0m",
      "\u001b[1;31mIndexError\u001b[0m                                Traceback (most recent call last)",
      "Cell \u001b[1;32mIn[22], line 1\u001b[0m\n\u001b[1;32m----> 1\u001b[0m \u001b[38;5;28;01mdel\u001b[39;00m lista2[\u001b[38;5;241m4\u001b[39m]\n",
      "\u001b[1;31mIndexError\u001b[0m: list assignment index out of range"
     ]
    }
   ],
   "source": [
    "del lista2[4]"
   ]
  },
  {
   "cell_type": "code",
   "execution_count": 23,
   "id": "867a813b",
   "metadata": {},
   "outputs": [],
   "source": [
    "del lista2[3]"
   ]
  },
  {
   "cell_type": "code",
   "execution_count": 24,
   "id": "cb4fe464",
   "metadata": {},
   "outputs": [
    {
     "data": {
      "text/plain": [
       "['arroz', 'frango', 'chocolate']"
      ]
     },
     "execution_count": 24,
     "metadata": {},
     "output_type": "execute_result"
    }
   ],
   "source": [
    "lista2"
   ]
  },
  {
   "cell_type": "markdown",
   "id": "dd1504e7",
   "metadata": {},
   "source": [
    "### Listas de Listas (Listas Aninhadas)"
   ]
  },
  {
   "cell_type": "code",
   "execution_count": 25,
   "id": "8360dcc8",
   "metadata": {},
   "outputs": [],
   "source": [
    "listas = [[1,2,3],[10,15,14],[10.1,8.7,2.3]]"
   ]
  },
  {
   "cell_type": "code",
   "execution_count": 26,
   "id": "05c90f56",
   "metadata": {},
   "outputs": [
    {
     "name": "stdout",
     "output_type": "stream",
     "text": [
      "[[1, 2, 3], [10, 15, 14], [10.1, 8.7, 2.3]]\n"
     ]
    }
   ],
   "source": [
    "print(listas)"
   ]
  },
  {
   "cell_type": "code",
   "execution_count": 27,
   "id": "c95d8b23",
   "metadata": {},
   "outputs": [],
   "source": [
    "a = listas[0]"
   ]
  },
  {
   "cell_type": "code",
   "execution_count": 28,
   "id": "fb55b16d",
   "metadata": {},
   "outputs": [
    {
     "data": {
      "text/plain": [
       "[1, 2, 3]"
      ]
     },
     "execution_count": 28,
     "metadata": {},
     "output_type": "execute_result"
    }
   ],
   "source": [
    "a"
   ]
  },
  {
   "cell_type": "code",
   "execution_count": 29,
   "id": "972a3e55",
   "metadata": {},
   "outputs": [],
   "source": [
    "b=a[0]"
   ]
  },
  {
   "cell_type": "code",
   "execution_count": 30,
   "id": "5438f66f",
   "metadata": {},
   "outputs": [
    {
     "data": {
      "text/plain": [
       "1"
      ]
     },
     "execution_count": 30,
     "metadata": {},
     "output_type": "execute_result"
    }
   ],
   "source": [
    "b"
   ]
  },
  {
   "cell_type": "code",
   "execution_count": 31,
   "id": "cf4a6c4d",
   "metadata": {},
   "outputs": [],
   "source": [
    "list1=listas[1]"
   ]
  },
  {
   "cell_type": "code",
   "execution_count": 32,
   "id": "1a081ff8",
   "metadata": {},
   "outputs": [
    {
     "data": {
      "text/plain": [
       "[10, 15, 14]"
      ]
     },
     "execution_count": 32,
     "metadata": {},
     "output_type": "execute_result"
    }
   ],
   "source": [
    "list1"
   ]
  },
  {
   "cell_type": "code",
   "execution_count": 33,
   "id": "3cb41fa6",
   "metadata": {},
   "outputs": [],
   "source": [
    "valor1_0=list1[0]"
   ]
  },
  {
   "cell_type": "code",
   "execution_count": 34,
   "id": "12710fae",
   "metadata": {},
   "outputs": [
    {
     "data": {
      "text/plain": [
       "10"
      ]
     },
     "execution_count": 34,
     "metadata": {},
     "output_type": "execute_result"
    }
   ],
   "source": [
    "valor1_0"
   ]
  },
  {
   "cell_type": "code",
   "execution_count": 35,
   "id": "8beffb3a",
   "metadata": {},
   "outputs": [],
   "source": [
    "valor1_2=list1[2]"
   ]
  },
  {
   "cell_type": "code",
   "execution_count": 36,
   "id": "096fd09a",
   "metadata": {},
   "outputs": [
    {
     "data": {
      "text/plain": [
       "14"
      ]
     },
     "execution_count": 36,
     "metadata": {},
     "output_type": "execute_result"
    }
   ],
   "source": [
    "valor1_2"
   ]
  },
  {
   "cell_type": "code",
   "execution_count": 37,
   "id": "9bfe9fd9",
   "metadata": {},
   "outputs": [],
   "source": [
    "list2=listas[2]"
   ]
  },
  {
   "cell_type": "code",
   "execution_count": 38,
   "id": "7b3ad2ae",
   "metadata": {},
   "outputs": [
    {
     "data": {
      "text/plain": [
       "[10.1, 8.7, 2.3]"
      ]
     },
     "execution_count": 38,
     "metadata": {},
     "output_type": "execute_result"
    }
   ],
   "source": [
    "list2"
   ]
  },
  {
   "cell_type": "code",
   "execution_count": 39,
   "id": "d3878bc2",
   "metadata": {},
   "outputs": [],
   "source": [
    "valor2_0=list2[0]"
   ]
  },
  {
   "cell_type": "code",
   "execution_count": 40,
   "id": "99496948",
   "metadata": {},
   "outputs": [
    {
     "data": {
      "text/plain": [
       "10.1"
      ]
     },
     "execution_count": 40,
     "metadata": {},
     "output_type": "execute_result"
    }
   ],
   "source": [
    "valor2_0"
   ]
  },
  {
   "cell_type": "markdown",
   "id": "7ce5981a",
   "metadata": {},
   "source": [
    "### Operações com listas"
   ]
  },
  {
   "cell_type": "code",
   "execution_count": 41,
   "id": "7cc05749",
   "metadata": {},
   "outputs": [],
   "source": [
    "listas = [[1, 2, 3], [10, 15, 14], [10.1, 8.7, 2.3]]"
   ]
  },
  {
   "cell_type": "code",
   "execution_count": 42,
   "id": "3ffd6df7",
   "metadata": {},
   "outputs": [
    {
     "data": {
      "text/plain": [
       "[[1, 2, 3], [10, 15, 14], [10.1, 8.7, 2.3]]"
      ]
     },
     "execution_count": 42,
     "metadata": {},
     "output_type": "execute_result"
    }
   ],
   "source": [
    "listas"
   ]
  },
  {
   "cell_type": "code",
   "execution_count": 43,
   "id": "30600c2b",
   "metadata": {},
   "outputs": [],
   "source": [
    "a= listas[0][0]"
   ]
  },
  {
   "cell_type": "code",
   "execution_count": 44,
   "id": "12df9e38",
   "metadata": {},
   "outputs": [
    {
     "data": {
      "text/plain": [
       "1"
      ]
     },
     "execution_count": 44,
     "metadata": {},
     "output_type": "execute_result"
    }
   ],
   "source": [
    "a"
   ]
  },
  {
   "cell_type": "code",
   "execution_count": 45,
   "id": "564a6ec6",
   "metadata": {},
   "outputs": [],
   "source": [
    "b = listas [1][2]"
   ]
  },
  {
   "cell_type": "code",
   "execution_count": 46,
   "id": "3abf1e25",
   "metadata": {},
   "outputs": [
    {
     "data": {
      "text/plain": [
       "14"
      ]
     },
     "execution_count": 46,
     "metadata": {},
     "output_type": "execute_result"
    }
   ],
   "source": [
    "b"
   ]
  },
  {
   "cell_type": "code",
   "execution_count": 47,
   "id": "25e5db8d",
   "metadata": {},
   "outputs": [],
   "source": [
    "c = listas[0][2]+10"
   ]
  },
  {
   "cell_type": "code",
   "execution_count": 48,
   "id": "d2b7f80c",
   "metadata": {},
   "outputs": [
    {
     "data": {
      "text/plain": [
       "13"
      ]
     },
     "execution_count": 48,
     "metadata": {},
     "output_type": "execute_result"
    }
   ],
   "source": [
    "c"
   ]
  },
  {
   "cell_type": "code",
   "execution_count": 49,
   "id": "1bde8c25",
   "metadata": {},
   "outputs": [],
   "source": [
    "d=10"
   ]
  },
  {
   "cell_type": "code",
   "execution_count": 50,
   "id": "46e1056b",
   "metadata": {},
   "outputs": [
    {
     "data": {
      "text/plain": [
       "10"
      ]
     },
     "execution_count": 50,
     "metadata": {},
     "output_type": "execute_result"
    }
   ],
   "source": [
    "d"
   ]
  },
  {
   "cell_type": "code",
   "execution_count": 51,
   "id": "df6688a6",
   "metadata": {},
   "outputs": [],
   "source": [
    "e = d+listas[2][0]"
   ]
  },
  {
   "cell_type": "code",
   "execution_count": 52,
   "id": "fdf191c1",
   "metadata": {},
   "outputs": [
    {
     "data": {
      "text/plain": [
       "20.1"
      ]
     },
     "execution_count": 52,
     "metadata": {},
     "output_type": "execute_result"
    }
   ],
   "source": [
    "e"
   ]
  },
  {
   "cell_type": "markdown",
   "id": "6b7d63f3",
   "metadata": {},
   "source": [
    "### Concatenando Listas"
   ]
  },
  {
   "cell_type": "code",
   "execution_count": 53,
   "id": "3e3096a4",
   "metadata": {},
   "outputs": [],
   "source": [
    "lista_s1 = [34,32,56]"
   ]
  },
  {
   "cell_type": "code",
   "execution_count": 54,
   "id": "e246467b",
   "metadata": {},
   "outputs": [
    {
     "data": {
      "text/plain": [
       "[34, 32, 56]"
      ]
     },
     "execution_count": 54,
     "metadata": {},
     "output_type": "execute_result"
    }
   ],
   "source": [
    "lista_s1"
   ]
  },
  {
   "cell_type": "code",
   "execution_count": 60,
   "id": "69b4e746",
   "metadata": {},
   "outputs": [],
   "source": [
    "lista_s2=[21,90,51]"
   ]
  },
  {
   "cell_type": "code",
   "execution_count": 63,
   "id": "41ce67b2",
   "metadata": {},
   "outputs": [
    {
     "data": {
      "text/plain": [
       "[21, 90, 51]"
      ]
     },
     "execution_count": 63,
     "metadata": {},
     "output_type": "execute_result"
    }
   ],
   "source": [
    "lista_s2"
   ]
  },
  {
   "cell_type": "code",
   "execution_count": 64,
   "id": "014269ab",
   "metadata": {},
   "outputs": [],
   "source": [
    "lista_total= lista_s1+lista_s2"
   ]
  },
  {
   "cell_type": "code",
   "execution_count": 65,
   "id": "3e978892",
   "metadata": {},
   "outputs": [
    {
     "data": {
      "text/plain": [
       "[34, 32, 56, 21, 90, 51]"
      ]
     },
     "execution_count": 65,
     "metadata": {},
     "output_type": "execute_result"
    }
   ],
   "source": [
    "lista_total"
   ]
  },
  {
   "cell_type": "markdown",
   "id": "2ab6def3",
   "metadata": {},
   "source": [
    "### Operador in"
   ]
  },
  {
   "cell_type": "code",
   "execution_count": 66,
   "id": "074b6cf7",
   "metadata": {},
   "outputs": [],
   "source": [
    "lista_teste_op = (100, 2, -5, 3.4)"
   ]
  },
  {
   "cell_type": "code",
   "execution_count": 67,
   "id": "bfdb5b8a",
   "metadata": {},
   "outputs": [
    {
     "name": "stdout",
     "output_type": "stream",
     "text": [
      "(100, 2, -5, 3.4)\n"
     ]
    }
   ],
   "source": [
    "print(lista_teste_op)"
   ]
  },
  {
   "cell_type": "code",
   "execution_count": 68,
   "id": "600abd61",
   "metadata": {},
   "outputs": [
    {
     "name": "stdout",
     "output_type": "stream",
     "text": [
      "True\n"
     ]
    }
   ],
   "source": [
    "print(100 in lista_teste_op)"
   ]
  },
  {
   "cell_type": "code",
   "execution_count": 69,
   "id": "d77f9ed1",
   "metadata": {},
   "outputs": [
    {
     "name": "stdout",
     "output_type": "stream",
     "text": [
      "False\n"
     ]
    }
   ],
   "source": [
    "print (10 in lista_teste_op)"
   ]
  },
  {
   "cell_type": "markdown",
   "id": "c0ebca23",
   "metadata": {},
   "source": [
    "### Funções Built-in"
   ]
  },
  {
   "cell_type": "code",
   "execution_count": 70,
   "id": "c43f2d71",
   "metadata": {},
   "outputs": [],
   "source": [
    "lista_numeros =[10, 20,  50, -3.4]"
   ]
  },
  {
   "cell_type": "code",
   "execution_count": 71,
   "id": "60529e2d",
   "metadata": {},
   "outputs": [
    {
     "data": {
      "text/plain": [
       "4"
      ]
     },
     "execution_count": 71,
     "metadata": {},
     "output_type": "execute_result"
    }
   ],
   "source": [
    "len(lista_numeros)"
   ]
  },
  {
   "cell_type": "code",
   "execution_count": 72,
   "id": "6523ea20",
   "metadata": {},
   "outputs": [
    {
     "data": {
      "text/plain": [
       "50"
      ]
     },
     "execution_count": 72,
     "metadata": {},
     "output_type": "execute_result"
    }
   ],
   "source": [
    "max(lista_numeros)"
   ]
  },
  {
   "cell_type": "code",
   "execution_count": 73,
   "id": "88e715b7",
   "metadata": {},
   "outputs": [
    {
     "data": {
      "text/plain": [
       "-3.4"
      ]
     },
     "execution_count": 73,
     "metadata": {},
     "output_type": "execute_result"
    }
   ],
   "source": [
    "min(lista_numeros)"
   ]
  },
  {
   "cell_type": "code",
   "execution_count": 74,
   "id": "7368c359",
   "metadata": {},
   "outputs": [],
   "source": [
    "lista_formacoes_dsa=[\"Analista de Dados\", \"Cientista de Dados\", \"Engenheiro de Dados\"]"
   ]
  },
  {
   "cell_type": "code",
   "execution_count": 81,
   "id": "6e4e0d6e",
   "metadata": {},
   "outputs": [],
   "source": [
    "lista_formacoes_dsa.append('Engenheiro de IA')"
   ]
  },
  {
   "cell_type": "code",
   "execution_count": 82,
   "id": "af102f6e",
   "metadata": {},
   "outputs": [],
   "source": [
    "lista_formacoes_dsa.append('Engenheiro de IA')"
   ]
  },
  {
   "cell_type": "code",
   "execution_count": 83,
   "id": "1804d1f0",
   "metadata": {},
   "outputs": [
    {
     "data": {
      "text/plain": [
       "['Analista de Dados',\n",
       " 'Cientista de Dados',\n",
       " 'Engenheiro de Dados',\n",
       " 'Engenheiro de IA',\n",
       " 'Engenheiro de IA',\n",
       " 'Engenheiro de IA']"
      ]
     },
     "execution_count": 83,
     "metadata": {},
     "output_type": "execute_result"
    }
   ],
   "source": [
    "lista_formacoes_dsa"
   ]
  },
  {
   "cell_type": "code",
   "execution_count": 84,
   "id": "41fcfb4c",
   "metadata": {},
   "outputs": [
    {
     "data": {
      "text/plain": [
       "3"
      ]
     },
     "execution_count": 84,
     "metadata": {},
     "output_type": "execute_result"
    }
   ],
   "source": [
    "lista_formacoes_dsa.count('Engenheiro de IA')"
   ]
  },
  {
   "cell_type": "code",
   "execution_count": 85,
   "id": "bc657392",
   "metadata": {},
   "outputs": [],
   "source": [
    "a=[]"
   ]
  },
  {
   "cell_type": "code",
   "execution_count": 86,
   "id": "9118fdbc",
   "metadata": {},
   "outputs": [
    {
     "name": "stdout",
     "output_type": "stream",
     "text": [
      "[]\n"
     ]
    }
   ],
   "source": [
    "print(a)"
   ]
  },
  {
   "cell_type": "code",
   "execution_count": 87,
   "id": "850ef719",
   "metadata": {},
   "outputs": [],
   "source": [
    "a.append(10)"
   ]
  },
  {
   "cell_type": "code",
   "execution_count": 88,
   "id": "284b0e21",
   "metadata": {},
   "outputs": [
    {
     "data": {
      "text/plain": [
       "[10]"
      ]
     },
     "execution_count": 88,
     "metadata": {},
     "output_type": "execute_result"
    }
   ],
   "source": [
    "a"
   ]
  },
  {
   "cell_type": "code",
   "execution_count": 89,
   "id": "849d9519",
   "metadata": {},
   "outputs": [],
   "source": [
    "a.append(50)"
   ]
  },
  {
   "cell_type": "code",
   "execution_count": 90,
   "id": "58c0990b",
   "metadata": {},
   "outputs": [
    {
     "data": {
      "text/plain": [
       "[10, 50]"
      ]
     },
     "execution_count": 90,
     "metadata": {},
     "output_type": "execute_result"
    }
   ],
   "source": [
    "a"
   ]
  },
  {
   "cell_type": "code",
   "execution_count": 91,
   "id": "7e84e183",
   "metadata": {},
   "outputs": [],
   "source": [
    "old_list =[1,2,5,10]"
   ]
  },
  {
   "cell_type": "code",
   "execution_count": 93,
   "id": "c0007a06",
   "metadata": {},
   "outputs": [],
   "source": [
    "new_list =[]"
   ]
  },
  {
   "cell_type": "code",
   "execution_count": 95,
   "id": "2cecc8ec",
   "metadata": {},
   "outputs": [],
   "source": [
    "#Copiando os itens de  uma lista para outra\n",
    "for item in old_list:\n",
    "    new_list.append(item)"
   ]
  },
  {
   "cell_type": "code",
   "execution_count": 96,
   "id": "b39d3c1a",
   "metadata": {},
   "outputs": [
    {
     "data": {
      "text/plain": [
       "[1, 2, 5, 10]"
      ]
     },
     "execution_count": 96,
     "metadata": {},
     "output_type": "execute_result"
    }
   ],
   "source": [
    "new_list"
   ]
  },
  {
   "cell_type": "code",
   "execution_count": 97,
   "id": "4abdbd29",
   "metadata": {},
   "outputs": [
    {
     "name": "stdout",
     "output_type": "stream",
     "text": [
      "['Recife', 'Manaus', 'Salvador', 'Fortaleza', 'Palmas']\n"
     ]
    }
   ],
   "source": [
    "cidades =['Recife', 'Manaus', 'Salvador']\n",
    "cidades.extend(['Fortaleza','Palmas'])\n",
    "print(cidades)"
   ]
  },
  {
   "cell_type": "code",
   "execution_count": 98,
   "id": "63d12b6c",
   "metadata": {},
   "outputs": [
    {
     "data": {
      "text/plain": [
       "2"
      ]
     },
     "execution_count": 98,
     "metadata": {},
     "output_type": "execute_result"
    }
   ],
   "source": [
    "cidades.index('Salvador')"
   ]
  },
  {
   "cell_type": "code",
   "execution_count": 99,
   "id": "bf235106",
   "metadata": {},
   "outputs": [
    {
     "ename": "ValueError",
     "evalue": "'Rio de Janeiro' is not in list",
     "output_type": "error",
     "traceback": [
      "\u001b[1;31m---------------------------------------------------------------------------\u001b[0m",
      "\u001b[1;31mValueError\u001b[0m                                Traceback (most recent call last)",
      "Cell \u001b[1;32mIn[99], line 1\u001b[0m\n\u001b[1;32m----> 1\u001b[0m cidades\u001b[38;5;241m.\u001b[39mindex(\u001b[38;5;124m'\u001b[39m\u001b[38;5;124mRio de Janeiro\u001b[39m\u001b[38;5;124m'\u001b[39m)\n",
      "\u001b[1;31mValueError\u001b[0m: 'Rio de Janeiro' is not in list"
     ]
    }
   ],
   "source": [
    "cidades.index('Rio de Janeiro')"
   ]
  },
  {
   "cell_type": "code",
   "execution_count": 100,
   "id": "beed1f52",
   "metadata": {},
   "outputs": [
    {
     "data": {
      "text/plain": [
       "['Recife', 'Manaus', 'Salvador', 'Fortaleza', 'Palmas']"
      ]
     },
     "execution_count": 100,
     "metadata": {},
     "output_type": "execute_result"
    }
   ],
   "source": [
    "cidades"
   ]
  },
  {
   "cell_type": "code",
   "execution_count": 104,
   "id": "84932c15",
   "metadata": {},
   "outputs": [],
   "source": [
    "cidades.insert(2,110)"
   ]
  },
  {
   "cell_type": "code",
   "execution_count": 105,
   "id": "834b8021",
   "metadata": {},
   "outputs": [
    {
     "data": {
      "text/plain": [
       "['Recife', 'Manaus', 110, 11, 'Salvador', 'Fortaleza', 'Palmas']"
      ]
     },
     "execution_count": 105,
     "metadata": {},
     "output_type": "execute_result"
    }
   ],
   "source": [
    "cidades"
   ]
  },
  {
   "cell_type": "code",
   "execution_count": 106,
   "id": "264ead40",
   "metadata": {},
   "outputs": [],
   "source": [
    "cidades.remove(110)"
   ]
  },
  {
   "cell_type": "code",
   "execution_count": 107,
   "id": "57714293",
   "metadata": {},
   "outputs": [
    {
     "data": {
      "text/plain": [
       "['Recife', 'Manaus', 11, 'Salvador', 'Fortaleza', 'Palmas']"
      ]
     },
     "execution_count": 107,
     "metadata": {},
     "output_type": "execute_result"
    }
   ],
   "source": [
    "cidades"
   ]
  },
  {
   "cell_type": "code",
   "execution_count": 108,
   "id": "a2b7938e",
   "metadata": {},
   "outputs": [],
   "source": [
    "cidades.remove(11)"
   ]
  },
  {
   "cell_type": "code",
   "execution_count": 109,
   "id": "71ab3f10",
   "metadata": {},
   "outputs": [
    {
     "data": {
      "text/plain": [
       "['Recife', 'Manaus', 'Salvador', 'Fortaleza', 'Palmas']"
      ]
     },
     "execution_count": 109,
     "metadata": {},
     "output_type": "execute_result"
    }
   ],
   "source": [
    "cidades"
   ]
  },
  {
   "cell_type": "code",
   "execution_count": 110,
   "id": "4a54ac12",
   "metadata": {},
   "outputs": [
    {
     "data": {
      "text/plain": [
       "<function list.reverse()>"
      ]
     },
     "execution_count": 110,
     "metadata": {},
     "output_type": "execute_result"
    }
   ],
   "source": [
    "cidades.reverse"
   ]
  },
  {
   "cell_type": "code",
   "execution_count": 111,
   "id": "7673a0c0",
   "metadata": {},
   "outputs": [
    {
     "data": {
      "text/plain": [
       "['Recife', 'Manaus', 'Salvador', 'Fortaleza', 'Palmas']"
      ]
     },
     "execution_count": 111,
     "metadata": {},
     "output_type": "execute_result"
    }
   ],
   "source": [
    "cidades"
   ]
  },
  {
   "cell_type": "code",
   "execution_count": 112,
   "id": "cb8526d8",
   "metadata": {},
   "outputs": [],
   "source": [
    "x=[3,4,2,1]"
   ]
  },
  {
   "cell_type": "code",
   "execution_count": 113,
   "id": "d5cd65b7",
   "metadata": {},
   "outputs": [
    {
     "data": {
      "text/plain": [
       "[3, 4, 2, 1]"
      ]
     },
     "execution_count": 113,
     "metadata": {},
     "output_type": "execute_result"
    }
   ],
   "source": [
    "x"
   ]
  },
  {
   "cell_type": "code",
   "execution_count": 115,
   "id": "2f04b10f",
   "metadata": {},
   "outputs": [],
   "source": [
    "x.sort()"
   ]
  },
  {
   "cell_type": "code",
   "execution_count": 116,
   "id": "43695e81",
   "metadata": {},
   "outputs": [
    {
     "data": {
      "text/plain": [
       "[1, 2, 3, 4]"
      ]
     },
     "execution_count": 116,
     "metadata": {},
     "output_type": "execute_result"
    }
   ],
   "source": [
    "x"
   ]
  },
  {
   "cell_type": "code",
   "execution_count": null,
   "id": "92def5be",
   "metadata": {},
   "outputs": [],
   "source": []
  }
 ],
 "metadata": {
  "kernelspec": {
   "display_name": "Python 3 (ipykernel)",
   "language": "python",
   "name": "python3"
  },
  "language_info": {
   "codemirror_mode": {
    "name": "ipython",
    "version": 3
   },
   "file_extension": ".py",
   "mimetype": "text/x-python",
   "name": "python",
   "nbconvert_exporter": "python",
   "pygments_lexer": "ipython3",
   "version": "3.11.5"
  }
 },
 "nbformat": 4,
 "nbformat_minor": 5
}
