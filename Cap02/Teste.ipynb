{
 "cells": [
  {
   "cell_type": "markdown",
   "id": "c8e73df8",
   "metadata": {},
   "source": [
    "Gere código Python que crie uma lista com os números entre 1 e 100 e então imprima os números pares, mas somente se o número for divisível por 4"
   ]
  },
  {
   "cell_type": "code",
   "execution_count": 1,
   "id": "4c726e2a",
   "metadata": {},
   "outputs": [],
   "source": [
    "numeros = list(range(1, 101))"
   ]
  },
  {
   "cell_type": "code",
   "execution_count": 2,
   "id": "76bbabcd",
   "metadata": {},
   "outputs": [],
   "source": [
    "pares_divisiveis_por_4 = [num for num in numeros if num % 2 == 0 and num % 4 == 0]\n"
   ]
  },
  {
   "cell_type": "code",
   "execution_count": 3,
   "id": "e647dbd7",
   "metadata": {},
   "outputs": [
    {
     "name": "stdout",
     "output_type": "stream",
     "text": [
      "Números pares divisíveis por 4 entre 1 e 100:\n"
     ]
    }
   ],
   "source": [
    "print(\"Números pares divisíveis por 4 entre 1 e 100:\")\n"
   ]
  },
  {
   "cell_type": "code",
   "execution_count": 4,
   "id": "40694629",
   "metadata": {},
   "outputs": [
    {
     "name": "stdout",
     "output_type": "stream",
     "text": [
      "[4, 8, 12, 16, 20, 24, 28, 32, 36, 40, 44, 48, 52, 56, 60, 64, 68, 72, 76, 80, 84, 88, 92, 96, 100]\n"
     ]
    }
   ],
   "source": [
    "print(pares_divisiveis_por_4)\n"
   ]
  },
  {
   "cell_type": "markdown",
   "id": "c4a449a6",
   "metadata": {},
   "source": [
    "Gere código Python que crie uma lista com os números entre 1 e 100 e então imprima os números pares, mas somente se o número for divisível por 4, usando list comprehension:\n"
   ]
  },
  {
   "cell_type": "code",
   "execution_count": 5,
   "id": "ac85742c",
   "metadata": {},
   "outputs": [
    {
     "name": "stdout",
     "output_type": "stream",
     "text": [
      "Números pares divisíveis por 4 entre 1 e 100:\n",
      "[4, 8, 12, 16, 20, 24, 28, 32, 36, 40, 44, 48, 52, 56, 60, 64, 68, 72, 76, 80, 84, 88, 92, 96, 100]\n"
     ]
    }
   ],
   "source": [
    "# Cria a lista com números pares divisíveis por 4 usando list comprehension\n",
    "pares_divisiveis_por_4 = [num for num in range(1, 101) if num % 2 == 0 and num % 4 == 0]\n",
    "\n",
    "# Imprime os números filtrados\n",
    "print(\"Números pares divisíveis por 4 entre 1 e 100:\")\n",
    "print(pares_divisiveis_por_4)"
   ]
  },
  {
   "cell_type": "code",
   "execution_count": null,
   "id": "c92dd8da",
   "metadata": {},
   "outputs": [],
   "source": []
  }
 ],
 "metadata": {
  "kernelspec": {
   "display_name": "Python 3 (ipykernel)",
   "language": "python",
   "name": "python3"
  },
  "language_info": {
   "codemirror_mode": {
    "name": "ipython",
    "version": 3
   },
   "file_extension": ".py",
   "mimetype": "text/x-python",
   "name": "python",
   "nbconvert_exporter": "python",
   "pygments_lexer": "ipython3",
   "version": "3.11.5"
  }
 },
 "nbformat": 4,
 "nbformat_minor": 5
}
