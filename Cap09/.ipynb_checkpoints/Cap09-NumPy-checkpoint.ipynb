{
 "cells": [
  {
   "cell_type": "markdown",
   "id": "d249a1cc",
   "metadata": {},
   "source": [
    "### Numpy\n",
    "\n",
    "https://numpy.org"
   ]
  },
  {
   "cell_type": "code",
   "execution_count": 3,
   "id": "ea993075",
   "metadata": {},
   "outputs": [],
   "source": [
    "# Importando o Numpy\n",
    "import numpy as dsa"
   ]
  },
  {
   "cell_type": "code",
   "execution_count": 5,
   "id": "27d63a15",
   "metadata": {},
   "outputs": [
    {
     "data": {
      "text/plain": [
       "'1.24.3'"
      ]
     },
     "execution_count": 5,
     "metadata": {},
     "output_type": "execute_result"
    }
   ],
   "source": [
    "dsa.__version__"
   ]
  },
  {
   "cell_type": "markdown",
   "id": "27ed43d7",
   "metadata": {},
   "source": [
    "### Criando Arrays Numpy"
   ]
  },
  {
   "cell_type": "code",
   "execution_count": 9,
   "id": "4ee7610e",
   "metadata": {},
   "outputs": [],
   "source": [
    "# Array criado a partir de uma lista Python\n",
    "arr1 = dsa.array([10,21,32,43,48,15,76,57,89])"
   ]
  },
  {
   "cell_type": "code",
   "execution_count": 10,
   "id": "e5e09f04",
   "metadata": {},
   "outputs": [
    {
     "name": "stdout",
     "output_type": "stream",
     "text": [
      "[10 21 32 43 48 15 76 57 89]\n"
     ]
    }
   ],
   "source": [
    "print(arr1)"
   ]
  },
  {
   "cell_type": "code",
   "execution_count": 12,
   "id": "b1d844d9",
   "metadata": {},
   "outputs": [
    {
     "data": {
      "text/plain": [
       "numpy.ndarray"
      ]
     },
     "execution_count": 12,
     "metadata": {},
     "output_type": "execute_result"
    }
   ],
   "source": [
    "# Um objeto do tipo narray é um recipiente multidimensional itens do mesmo tipo e tamanho\n",
    "type(arr1)"
   ]
  },
  {
   "cell_type": "code",
   "execution_count": 13,
   "id": "a2490782",
   "metadata": {},
   "outputs": [
    {
     "data": {
      "text/plain": [
       "(9,)"
      ]
     },
     "execution_count": 13,
     "metadata": {},
     "output_type": "execute_result"
    }
   ],
   "source": [
    "# Verificando o formato do array\n",
    "arr1.shape"
   ]
  },
  {
   "cell_type": "markdown",
   "id": "f11dc330",
   "metadata": {},
   "source": [
    "### Indexação em Arrays Numpy"
   ]
  },
  {
   "cell_type": "code",
   "execution_count": 14,
   "id": "ccac5af8",
   "metadata": {},
   "outputs": [
    {
     "name": "stdout",
     "output_type": "stream",
     "text": [
      "[10 21 32 43 48 15 76 57 89]\n"
     ]
    }
   ],
   "source": [
    "print(arr1)"
   ]
  },
  {
   "cell_type": "code",
   "execution_count": 15,
   "id": "104803d7",
   "metadata": {},
   "outputs": [
    {
     "data": {
      "text/plain": [
       "48"
      ]
     },
     "execution_count": 15,
     "metadata": {},
     "output_type": "execute_result"
    }
   ],
   "source": [
    "# Imprimindo um elemento especifico no array\n",
    "arr1[4]"
   ]
  },
  {
   "cell_type": "code",
   "execution_count": 18,
   "id": "18130640",
   "metadata": {},
   "outputs": [
    {
     "data": {
      "text/plain": [
       "array([21, 32, 43])"
      ]
     },
     "execution_count": 18,
     "metadata": {},
     "output_type": "execute_result"
    }
   ],
   "source": [
    "# Indexação\n",
    "arr1[1:4]"
   ]
  },
  {
   "cell_type": "code",
   "execution_count": 20,
   "id": "4f84fd3d",
   "metadata": {},
   "outputs": [
    {
     "data": {
      "text/plain": [
       "array([21, 32, 43, 48])"
      ]
     },
     "execution_count": 20,
     "metadata": {},
     "output_type": "execute_result"
    }
   ],
   "source": [
    "# Indexação\n",
    "arr1[1:4+1]"
   ]
  },
  {
   "cell_type": "code",
   "execution_count": 21,
   "id": "5af970e7",
   "metadata": {},
   "outputs": [],
   "source": [
    "# Cria uma lista de indices\n",
    "indices = [1,2,3,4]"
   ]
  },
  {
   "cell_type": "code",
   "execution_count": 23,
   "id": "3cf6d714",
   "metadata": {},
   "outputs": [
    {
     "data": {
      "text/plain": [
       "array([21, 32, 43, 48])"
      ]
     },
     "execution_count": 23,
     "metadata": {},
     "output_type": "execute_result"
    }
   ],
   "source": [
    "# Imprimindo os elementos dos indices\n",
    "arr1[indices]"
   ]
  },
  {
   "cell_type": "code",
   "execution_count": 24,
   "id": "74a96b24",
   "metadata": {},
   "outputs": [],
   "source": [
    "# Cria uma mascara booleana para os elementos pares\n",
    "mask = (arr1 %  2 == 0)"
   ]
  },
  {
   "cell_type": "code",
   "execution_count": 26,
   "id": "0b27962d",
   "metadata": {},
   "outputs": [
    {
     "data": {
      "text/plain": [
       "array([ True, False,  True, False,  True, False,  True, False, False])"
      ]
     },
     "execution_count": 26,
     "metadata": {},
     "output_type": "execute_result"
    }
   ],
   "source": [
    "mask"
   ]
  },
  {
   "cell_type": "code",
   "execution_count": 25,
   "id": "f7e03e55",
   "metadata": {},
   "outputs": [
    {
     "data": {
      "text/plain": [
       "array([10, 32, 48, 76])"
      ]
     },
     "execution_count": 25,
     "metadata": {},
     "output_type": "execute_result"
    }
   ],
   "source": [
    "arr1[mask]"
   ]
  },
  {
   "cell_type": "code",
   "execution_count": 27,
   "id": "98187009",
   "metadata": {},
   "outputs": [],
   "source": [
    "# Alterando o elemento do array\n",
    "arr1[0] = 100"
   ]
  },
  {
   "cell_type": "code",
   "execution_count": 28,
   "id": "61b2f4b6",
   "metadata": {},
   "outputs": [
    {
     "name": "stdout",
     "output_type": "stream",
     "text": [
      "[100  21  32  43  48  15  76  57  89]\n"
     ]
    }
   ],
   "source": [
    "print(arr1)"
   ]
  },
  {
   "cell_type": "code",
   "execution_count": 29,
   "id": "b2cef96a",
   "metadata": {},
   "outputs": [
    {
     "name": "stdout",
     "output_type": "stream",
     "text": [
      "Operação não permitida\n"
     ]
    }
   ],
   "source": [
    "# Não é possivel incluir elmento de outro tipo\n",
    "\n",
    "try: \n",
    "    arr1[0] = \"Novo elemento\"\n",
    "except:\n",
    "    print(\"Operação não permitida\")"
   ]
  },
  {
   "cell_type": "markdown",
   "id": "cadd3c1e",
   "metadata": {},
   "source": [
    "### Funções Numpy"
   ]
  },
  {
   "cell_type": "code",
   "execution_count": 36,
   "id": "3b6da765",
   "metadata": {},
   "outputs": [],
   "source": [
    "# A função array() cria um array Numpy\n",
    "arr2 = dsa.array([1,2,3,4,5])"
   ]
  },
  {
   "cell_type": "code",
   "execution_count": 37,
   "id": "49dabdeb",
   "metadata": {},
   "outputs": [
    {
     "name": "stdout",
     "output_type": "stream",
     "text": [
      "[1 2 3 4 5]\n"
     ]
    }
   ],
   "source": [
    "print(arr2)"
   ]
  },
  {
   "cell_type": "code",
   "execution_count": 38,
   "id": "d0fedef0",
   "metadata": {},
   "outputs": [
    {
     "data": {
      "text/plain": [
       "numpy.ndarray"
      ]
     },
     "execution_count": 38,
     "metadata": {},
     "output_type": "execute_result"
    }
   ],
   "source": [
    "# Verificando o tipo do objeto\n",
    "type(arr2)"
   ]
  },
  {
   "cell_type": "code",
   "execution_count": 39,
   "id": "0d36d439",
   "metadata": {},
   "outputs": [
    {
     "data": {
      "text/plain": [
       "array([1, 2, 3, 4, 5])"
      ]
     },
     "execution_count": 39,
     "metadata": {},
     "output_type": "execute_result"
    }
   ],
   "source": [
    "# Digite . e pressione a tecla Tab no seu teclado para visualizar os métodos disponíveis em objetos Numpay\n",
    "arr2"
   ]
  },
  {
   "cell_type": "code",
   "execution_count": 41,
   "id": "d56d9603",
   "metadata": {},
   "outputs": [
    {
     "data": {
      "text/plain": [
       "array([ 1,  3,  6, 10, 15])"
      ]
     },
     "execution_count": 41,
     "metadata": {},
     "output_type": "execute_result"
    }
   ],
   "source": [
    "# Usando métodos do array Numpy\n",
    "arr2.cumsum()"
   ]
  },
  {
   "cell_type": "code",
   "execution_count": 42,
   "id": "1ddd81dc",
   "metadata": {},
   "outputs": [
    {
     "data": {
      "text/plain": [
       "array([  1,   2,   6,  24, 120])"
      ]
     },
     "execution_count": 42,
     "metadata": {},
     "output_type": "execute_result"
    }
   ],
   "source": [
    "arr2.cumprod()"
   ]
  },
  {
   "cell_type": "code",
   "execution_count": 43,
   "id": "21a04d19",
   "metadata": {},
   "outputs": [
    {
     "data": {
      "text/plain": [
       "<module 'numpy' from 'C:\\\\Users\\\\Nossa Casa\\\\anaconda3\\\\Lib\\\\site-packages\\\\numpy\\\\__init__.py'>"
      ]
     },
     "execution_count": 43,
     "metadata": {},
     "output_type": "execute_result"
    }
   ],
   "source": [
    "# Digite . e pressione a tecla no seu teclado para visualizar as funções para manipular objetos numpy\n",
    "dsa"
   ]
  },
  {
   "cell_type": "code",
   "execution_count": 49,
   "id": "116f70cb",
   "metadata": {},
   "outputs": [],
   "source": [
    "# A função arrange cria um array Numpy contendo uma progressão aritmética a partir de um intervalo - start, stop, step\n",
    "arr3 =dsa.arange(0,50,5)"
   ]
  },
  {
   "cell_type": "code",
   "execution_count": 50,
   "id": "9c0d9bab",
   "metadata": {},
   "outputs": [
    {
     "name": "stdout",
     "output_type": "stream",
     "text": [
      "[ 0  5 10 15 20 25 30 35 40 45]\n"
     ]
    }
   ],
   "source": [
    "print(arr3)"
   ]
  },
  {
   "cell_type": "code",
   "execution_count": 51,
   "id": "36f92eb8",
   "metadata": {},
   "outputs": [
    {
     "data": {
      "text/plain": [
       "numpy.ndarray"
      ]
     },
     "execution_count": 51,
     "metadata": {},
     "output_type": "execute_result"
    }
   ],
   "source": [
    "# Verificando o tipo de objeto\n",
    "type(arr3)"
   ]
  },
  {
   "cell_type": "code",
   "execution_count": 56,
   "id": "a2817f1d",
   "metadata": {},
   "outputs": [
    {
     "data": {
      "text/plain": [
       "(10,)"
      ]
     },
     "execution_count": 56,
     "metadata": {},
     "output_type": "execute_result"
    }
   ],
   "source": [
    "# Formato do array\n",
    "dsa.shape(arr3)"
   ]
  },
  {
   "cell_type": "code",
   "execution_count": 53,
   "id": "d2b41a21",
   "metadata": {},
   "outputs": [
    {
     "name": "stdout",
     "output_type": "stream",
     "text": [
      "int32\n"
     ]
    }
   ],
   "source": [
    "print(arr3.dtype)"
   ]
  },
  {
   "cell_type": "code",
   "execution_count": 54,
   "id": "9a10d607",
   "metadata": {},
   "outputs": [],
   "source": [
    "# Cria um array preenchido com zeros\n",
    "arr4 = dsa.zeros(10)"
   ]
  },
  {
   "cell_type": "code",
   "execution_count": 55,
   "id": "7203530c",
   "metadata": {},
   "outputs": [
    {
     "name": "stdout",
     "output_type": "stream",
     "text": [
      "[0. 0. 0. 0. 0. 0. 0. 0. 0. 0.]\n"
     ]
    }
   ],
   "source": [
    "print(arr4)"
   ]
  },
  {
   "cell_type": "code",
   "execution_count": 57,
   "id": "69bbd043",
   "metadata": {},
   "outputs": [],
   "source": [
    "# Retorna 1 nas posições em diagonal e 0 no restante\n",
    "arr5 =dsa.eye(3)"
   ]
  },
  {
   "cell_type": "code",
   "execution_count": 58,
   "id": "91595a54",
   "metadata": {},
   "outputs": [
    {
     "name": "stdout",
     "output_type": "stream",
     "text": [
      "[[1. 0. 0.]\n",
      " [0. 1. 0.]\n",
      " [0. 0. 1.]]\n"
     ]
    }
   ],
   "source": [
    "print(arr5)"
   ]
  },
  {
   "cell_type": "code",
   "execution_count": 59,
   "id": "8af4f17e",
   "metadata": {},
   "outputs": [],
   "source": [
    "# Os valores passados como parâmetro, forma uma diagonal\n",
    "arr6 = dsa.diag(dsa.array([1,2,3,4]))"
   ]
  },
  {
   "cell_type": "raw",
   "id": "7b219aaa",
   "metadata": {},
   "source": [
    "print(arr6)"
   ]
  },
  {
   "cell_type": "code",
   "execution_count": 62,
   "id": "1c088f69",
   "metadata": {},
   "outputs": [],
   "source": [
    "# Array de valores booleanos\n",
    "arr7 = dsa.array([True, False, False, True])"
   ]
  },
  {
   "cell_type": "code",
   "execution_count": 63,
   "id": "be969f32",
   "metadata": {},
   "outputs": [
    {
     "name": "stdout",
     "output_type": "stream",
     "text": [
      "[ True False False  True]\n"
     ]
    }
   ],
   "source": [
    "print(arr7)"
   ]
  },
  {
   "cell_type": "code",
   "execution_count": 64,
   "id": "fac80a63",
   "metadata": {},
   "outputs": [],
   "source": [
    "# Array de strings\n",
    "arr8 = dsa.array(['Linguagem Python','Linguagem R','Linguagem Julia'])"
   ]
  },
  {
   "cell_type": "code",
   "execution_count": 65,
   "id": "65aa36cb",
   "metadata": {},
   "outputs": [
    {
     "name": "stdout",
     "output_type": "stream",
     "text": [
      "['Linguagem Python' 'Linguagem R' 'Linguagem Julia']\n"
     ]
    }
   ],
   "source": [
    "print(arr8)"
   ]
  },
  {
   "cell_type": "code",
   "execution_count": 66,
   "id": "6653c928",
   "metadata": {},
   "outputs": [
    {
     "name": "stdout",
     "output_type": "stream",
     "text": [
      "[ 0.          0.20408163  0.40816327  0.6122449   0.81632653  1.02040816\n",
      "  1.2244898   1.42857143  1.63265306  1.83673469  2.04081633  2.24489796\n",
      "  2.44897959  2.65306122  2.85714286  3.06122449  3.26530612  3.46938776\n",
      "  3.67346939  3.87755102  4.08163265  4.28571429  4.48979592  4.69387755\n",
      "  4.89795918  5.10204082  5.30612245  5.51020408  5.71428571  5.91836735\n",
      "  6.12244898  6.32653061  6.53061224  6.73469388  6.93877551  7.14285714\n",
      "  7.34693878  7.55102041  7.75510204  7.95918367  8.16326531  8.36734694\n",
      "  8.57142857  8.7755102   8.97959184  9.18367347  9.3877551   9.59183673\n",
      "  9.79591837 10.        ]\n"
     ]
    }
   ],
   "source": [
    "print(dsa.linspace(0,10))"
   ]
  },
  {
   "cell_type": "code",
   "execution_count": 67,
   "id": "23c17fea",
   "metadata": {},
   "outputs": [
    {
     "name": "stdout",
     "output_type": "stream",
     "text": [
      "[ 0.          0.71428571  1.42857143  2.14285714  2.85714286  3.57142857\n",
      "  4.28571429  5.          5.71428571  6.42857143  7.14285714  7.85714286\n",
      "  8.57142857  9.28571429 10.        ]\n"
     ]
    }
   ],
   "source": [
    "print(dsa.linspace(0,10,15))"
   ]
  },
  {
   "cell_type": "code",
   "execution_count": 68,
   "id": "31d0e35a",
   "metadata": {},
   "outputs": [
    {
     "name": "stdout",
     "output_type": "stream",
     "text": [
      "[1.00000000e+00 3.59381366e+00 1.29154967e+01 4.64158883e+01\n",
      " 1.66810054e+02 5.99484250e+02 2.15443469e+03 7.74263683e+03\n",
      " 2.78255940e+04 1.00000000e+05]\n"
     ]
    }
   ],
   "source": [
    "print(dsa.logspace(0,5,10))"
   ]
  },
  {
   "cell_type": "markdown",
   "id": "8dba9373",
   "metadata": {},
   "source": [
    "#### Manipulando Matrizes"
   ]
  },
  {
   "cell_type": "code",
   "execution_count": 71,
   "id": "e37ea4dc",
   "metadata": {},
   "outputs": [],
   "source": [
    "# Criando uma matriz\n",
    "arr9 = dsa.array([[1,2,3],[4,5,6]])"
   ]
  },
  {
   "cell_type": "code",
   "execution_count": 72,
   "id": "062b2a05",
   "metadata": {},
   "outputs": [
    {
     "data": {
      "text/plain": [
       "numpy.ndarray"
      ]
     },
     "execution_count": 72,
     "metadata": {},
     "output_type": "execute_result"
    }
   ],
   "source": [
    "type(arr9)"
   ]
  },
  {
   "cell_type": "code",
   "execution_count": 73,
   "id": "a6ca224a",
   "metadata": {},
   "outputs": [
    {
     "name": "stdout",
     "output_type": "stream",
     "text": [
      "[[1 2 3]\n",
      " [4 5 6]]\n"
     ]
    }
   ],
   "source": [
    "print(arr9)"
   ]
  },
  {
   "cell_type": "code",
   "execution_count": 74,
   "id": "820f2942",
   "metadata": {},
   "outputs": [
    {
     "name": "stdout",
     "output_type": "stream",
     "text": [
      "(2, 3)\n"
     ]
    }
   ],
   "source": [
    "print(arr9.shape)"
   ]
  },
  {
   "cell_type": "code",
   "execution_count": 78,
   "id": "e1bd3e47",
   "metadata": {},
   "outputs": [],
   "source": [
    "# Criando uma triz 2x3 apenas com o número 1\n",
    "arr10 = dsa.ones((2,3))"
   ]
  },
  {
   "cell_type": "code",
   "execution_count": 95,
   "id": "eec18709",
   "metadata": {},
   "outputs": [
    {
     "name": "stdout",
     "output_type": "stream",
     "text": [
      "[[1. 1. 1.]\n",
      " [1. 1. 1.]]\n"
     ]
    }
   ],
   "source": [
    "print(arr10)"
   ]
  },
  {
   "cell_type": "code",
   "execution_count": 96,
   "id": "2287905d",
   "metadata": {},
   "outputs": [],
   "source": [
    "# Lista de listas\n",
    "lista =[[13,81,22],[0,34,59],[21,48,94]]"
   ]
  },
  {
   "cell_type": "code",
   "execution_count": 87,
   "id": "c1a1d558",
   "metadata": {},
   "outputs": [
    {
     "name": "stdout",
     "output_type": "stream",
     "text": [
      "[[13, 81, 22], [0, 34, 59], [21, 48, 94]]\n"
     ]
    }
   ],
   "source": [
    "print(lista)"
   ]
  },
  {
   "cell_type": "code",
   "execution_count": 88,
   "id": "f00603bb",
   "metadata": {},
   "outputs": [],
   "source": [
    "# A função matrix cria uma matriz a partir de uma lista de listas\n",
    "arr11 =dsa.matrix(lista)"
   ]
  },
  {
   "cell_type": "code",
   "execution_count": 89,
   "id": "0f764aba",
   "metadata": {},
   "outputs": [
    {
     "data": {
      "text/plain": [
       "numpy.matrix"
      ]
     },
     "execution_count": 89,
     "metadata": {},
     "output_type": "execute_result"
    }
   ],
   "source": [
    "type(arr11)"
   ]
  },
  {
   "cell_type": "code",
   "execution_count": 90,
   "id": "060c727a",
   "metadata": {},
   "outputs": [
    {
     "name": "stdout",
     "output_type": "stream",
     "text": [
      "[[13 81 22]\n",
      " [ 0 34 59]\n",
      " [21 48 94]]\n"
     ]
    }
   ],
   "source": [
    "print(arr11)"
   ]
  },
  {
   "cell_type": "code",
   "execution_count": 100,
   "id": "4047f925",
   "metadata": {},
   "outputs": [
    {
     "data": {
      "text/plain": [
       "(3, 3)"
      ]
     },
     "execution_count": 100,
     "metadata": {},
     "output_type": "execute_result"
    }
   ],
   "source": [
    "# Formato da matriz\n",
    "dsa.shape(arr11)"
   ]
  },
  {
   "cell_type": "code",
   "execution_count": 101,
   "id": "f0238d42",
   "metadata": {},
   "outputs": [
    {
     "data": {
      "text/plain": [
       "9"
      ]
     },
     "execution_count": 101,
     "metadata": {},
     "output_type": "execute_result"
    }
   ],
   "source": [
    "# Tamanho da matirz\n",
    "arr11.size"
   ]
  },
  {
   "cell_type": "code",
   "execution_count": 102,
   "id": "2b63a888",
   "metadata": {},
   "outputs": [
    {
     "name": "stdout",
     "output_type": "stream",
     "text": [
      "int32\n"
     ]
    }
   ],
   "source": [
    "print(arr11.dtype)"
   ]
  },
  {
   "cell_type": "code",
   "execution_count": 103,
   "id": "ef0503a1",
   "metadata": {},
   "outputs": [
    {
     "name": "stdout",
     "output_type": "stream",
     "text": [
      "[[13 81 22]\n",
      " [ 0 34 59]\n",
      " [21 48 94]]\n"
     ]
    }
   ],
   "source": [
    "print(arr11)"
   ]
  },
  {
   "cell_type": "code",
   "execution_count": 104,
   "id": "9bb0e5df",
   "metadata": {},
   "outputs": [
    {
     "data": {
      "text/plain": [
       "48"
      ]
     },
     "execution_count": 104,
     "metadata": {},
     "output_type": "execute_result"
    }
   ],
   "source": [
    "# Indexação da matriz\n",
    "arr11[2,1]"
   ]
  },
  {
   "cell_type": "code",
   "execution_count": 105,
   "id": "33f900ee",
   "metadata": {},
   "outputs": [
    {
     "data": {
      "text/plain": [
       "matrix([[22],\n",
       "        [59]])"
      ]
     },
     "execution_count": 105,
     "metadata": {},
     "output_type": "execute_result"
    }
   ],
   "source": [
    "# Indexação da matriz\n",
    "arr11[0:2,2]"
   ]
  },
  {
   "cell_type": "code",
   "execution_count": 108,
   "id": "3c99857d",
   "metadata": {},
   "outputs": [
    {
     "data": {
      "text/plain": [
       "matrix([[ 0, 34, 59]])"
      ]
     },
     "execution_count": 108,
     "metadata": {},
     "output_type": "execute_result"
    }
   ],
   "source": [
    "# Indexação da matriz\n",
    "arr11[1,]"
   ]
  },
  {
   "cell_type": "code",
   "execution_count": 109,
   "id": "3f1642f4",
   "metadata": {},
   "outputs": [],
   "source": [
    "# Alterando um elemento da matriz\n",
    "arr11 [1,0] =100"
   ]
  },
  {
   "cell_type": "code",
   "execution_count": 110,
   "id": "edc134f6",
   "metadata": {},
   "outputs": [
    {
     "name": "stdout",
     "output_type": "stream",
     "text": [
      "[[ 13  81  22]\n",
      " [100  34  59]\n",
      " [ 21  48  94]]\n"
     ]
    }
   ],
   "source": [
    "print(arr11)"
   ]
  },
  {
   "cell_type": "code",
   "execution_count": 112,
   "id": "f638df8b",
   "metadata": {},
   "outputs": [],
   "source": [
    "# Forçar o tipo de dados de uma matriz\n",
    "\n",
    "x = dsa.array([1,2]) #Numpy decide o tipo dos dados\n",
    "y = dsa.array([1.0, 2.0]) #Numpy decide o tipo de dados\n",
    "z = dsa.array([1,2],dtype = dsa.float64) # Forçamos um tipo de dados em particular"
   ]
  },
  {
   "cell_type": "code",
   "execution_count": 113,
   "id": "ad12dc26",
   "metadata": {},
   "outputs": [
    {
     "name": "stdout",
     "output_type": "stream",
     "text": [
      "int32 float64 float64\n"
     ]
    }
   ],
   "source": [
    "print(x.dtype, y.dtype, z.dtype)"
   ]
  },
  {
   "cell_type": "code",
   "execution_count": 114,
   "id": "0da6361b",
   "metadata": {},
   "outputs": [],
   "source": [
    "arr12 = dsa.array([[24,76,92,14],[47,35,89,2]], dtype= float)"
   ]
  },
  {
   "cell_type": "code",
   "execution_count": 115,
   "id": "0293206f",
   "metadata": {},
   "outputs": [
    {
     "name": "stdout",
     "output_type": "stream",
     "text": [
      "[[24. 76. 92. 14.]\n",
      " [47. 35. 89.  2.]]\n"
     ]
    }
   ],
   "source": [
    "print(arr12)"
   ]
  },
  {
   "cell_type": "code",
   "execution_count": 116,
   "id": "76607d99",
   "metadata": {},
   "outputs": [
    {
     "data": {
      "text/plain": [
       "8"
      ]
     },
     "execution_count": 116,
     "metadata": {},
     "output_type": "execute_result"
    }
   ],
   "source": [
    "arr12.itemsize"
   ]
  },
  {
   "cell_type": "code",
   "execution_count": 117,
   "id": "a54ebbdd",
   "metadata": {},
   "outputs": [
    {
     "data": {
      "text/plain": [
       "64"
      ]
     },
     "execution_count": 117,
     "metadata": {},
     "output_type": "execute_result"
    }
   ],
   "source": [
    "arr12.nbytes"
   ]
  },
  {
   "cell_type": "code",
   "execution_count": 118,
   "id": "5baabb9c",
   "metadata": {},
   "outputs": [
    {
     "data": {
      "text/plain": [
       "2"
      ]
     },
     "execution_count": 118,
     "metadata": {},
     "output_type": "execute_result"
    }
   ],
   "source": [
    "arr12.ndim"
   ]
  },
  {
   "cell_type": "markdown",
   "id": "8e77d619",
   "metadata": {},
   "source": []
  }
 ],
 "metadata": {
  "kernelspec": {
   "display_name": "Python 3 (ipykernel)",
   "language": "python",
   "name": "python3"
  },
  "language_info": {
   "codemirror_mode": {
    "name": "ipython",
    "version": 3
   },
   "file_extension": ".py",
   "mimetype": "text/x-python",
   "name": "python",
   "nbconvert_exporter": "python",
   "pygments_lexer": "ipython3",
   "version": "3.11.5"
  }
 },
 "nbformat": 4,
 "nbformat_minor": 5
}
