{
 "cells": [
  {
   "cell_type": "markdown",
   "id": "35af83c4",
   "metadata": {},
   "source": [
    "# Calculando a área de um Paralelogramo"
   ]
  },
  {
   "cell_type": "code",
   "execution_count": 2,
   "id": "524c3fcb",
   "metadata": {},
   "outputs": [
    {
     "name": "stdout",
     "output_type": "stream",
     "text": [
      "Bem-vindo ao calculador de Área de Paralelogramo\n"
     ]
    }
   ],
   "source": [
    "print(\"Bem-vindo ao calculador de Área de Paralelogramo\")"
   ]
  },
  {
   "cell_type": "code",
   "execution_count": 4,
   "id": "eca89353",
   "metadata": {},
   "outputs": [
    {
     "name": "stdout",
     "output_type": "stream",
     "text": [
      "Insira o comprimento da base: 10\n"
     ]
    }
   ],
   "source": [
    "base= float(input(\"Insira o comprimento da base: \"))"
   ]
  },
  {
   "cell_type": "code",
   "execution_count": 5,
   "id": "adc6f5b8",
   "metadata": {},
   "outputs": [
    {
     "name": "stdout",
     "output_type": "stream",
     "text": [
      "Insira a altura: 5\n"
     ]
    }
   ],
   "source": [
    "altura =float(input(\"Insira a altura: \"))"
   ]
  },
  {
   "cell_type": "code",
   "execution_count": 6,
   "id": "4d651646",
   "metadata": {},
   "outputs": [],
   "source": [
    "area = base*altura"
   ]
  },
  {
   "cell_type": "code",
   "execution_count": 8,
   "id": "92a0bb19",
   "metadata": {},
   "outputs": [
    {
     "name": "stdout",
     "output_type": "stream",
     "text": [
      "A área do paralelogramo é:  50.0\n"
     ]
    }
   ],
   "source": [
    "print(\"A área do paralelogramo é: \",area)"
   ]
  },
  {
   "cell_type": "code",
   "execution_count": null,
   "id": "bb3b4083",
   "metadata": {},
   "outputs": [],
   "source": []
  }
 ],
 "metadata": {
  "kernelspec": {
   "display_name": "Python 3 (ipykernel)",
   "language": "python",
   "name": "python3"
  },
  "language_info": {
   "codemirror_mode": {
    "name": "ipython",
    "version": 3
   },
   "file_extension": ".py",
   "mimetype": "text/x-python",
   "name": "python",
   "nbconvert_exporter": "python",
   "pygments_lexer": "ipython3",
   "version": "3.11.5"
  }
 },
 "nbformat": 4,
 "nbformat_minor": 5
}
