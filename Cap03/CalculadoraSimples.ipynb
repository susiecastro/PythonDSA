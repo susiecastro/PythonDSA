{
 "cells": [
  {
   "cell_type": "markdown",
   "id": "d2c722e6",
   "metadata": {},
   "source": [
    "## Pseudocódigo Calculadora Simples"
   ]
  },
  {
   "cell_type": "markdown",
   "id": "da9c6068",
   "metadata": {},
   "source": [
    "Inicie"
   ]
  },
  {
   "cell_type": "code",
   "execution_count": 1,
   "id": "ea213fb3",
   "metadata": {},
   "outputs": [
    {
     "name": "stdout",
     "output_type": "stream",
     "text": [
      "Bem-vindo à Calculadora\n"
     ]
    }
   ],
   "source": [
    "print (\"Bem-vindo à Calculadora\")"
   ]
  },
  {
   "cell_type": "code",
   "execution_count": 2,
   "id": "7b24f93b",
   "metadata": {},
   "outputs": [
    {
     "name": "stdout",
     "output_type": "stream",
     "text": [
      "Insira o primeiro número: 10\n"
     ]
    }
   ],
   "source": [
    "num1 = float(input(\"Insira o primeiro número: \"))"
   ]
  },
  {
   "cell_type": "code",
   "execution_count": 3,
   "id": "31291fd0",
   "metadata": {},
   "outputs": [
    {
     "name": "stdout",
     "output_type": "stream",
     "text": [
      "insira o segundo número: 7\n"
     ]
    }
   ],
   "source": [
    "num2= float(input(\"insira o segundo número: \"))"
   ]
  },
  {
   "cell_type": "code",
   "execution_count": 10,
   "id": "8a1f3b25",
   "metadata": {},
   "outputs": [
    {
     "name": "stdout",
     "output_type": "stream",
     "text": [
      "Selecione uma operação (+,-,*,/):-\n"
     ]
    }
   ],
   "source": [
    "operacao = input(\"Selecione uma operação (+,-,*,/):\")"
   ]
  },
  {
   "cell_type": "code",
   "execution_count": 11,
   "id": "55199b0c",
   "metadata": {},
   "outputs": [
    {
     "name": "stdout",
     "output_type": "stream",
     "text": [
      "O resultado é:  3.0\n"
     ]
    }
   ],
   "source": [
    "if operacao ==\"+\":\n",
    "    resultado = num1 + num2\n",
    "    print(\"O resultado é: \",resultado)\n",
    "    \n",
    "elif operacao ==\"-\":\n",
    "    resultado = num1 - num2\n",
    "    print(\"O resultado é: \",resultado)\n",
    "    \n",
    "elif operacao ==\"*\":\n",
    "    resultado = num1 * num2\n",
    "    print(\"O resultado é: \",resultado)\n",
    "    \n",
    "elif operacao ==\"/\":\n",
    "    resultado = num1 /num2\n",
    "    print(\"O resultado é: \",resultado)\n",
    "    \n",
    "else:\n",
    "    print(\"Operação inválida.\")"
   ]
  },
  {
   "cell_type": "code",
   "execution_count": null,
   "id": "9697b00c",
   "metadata": {},
   "outputs": [],
   "source": []
  },
  {
   "cell_type": "code",
   "execution_count": null,
   "id": "917e01ae",
   "metadata": {},
   "outputs": [],
   "source": []
  }
 ],
 "metadata": {
  "kernelspec": {
   "display_name": "Python 3 (ipykernel)",
   "language": "python",
   "name": "python3"
  },
  "language_info": {
   "codemirror_mode": {
    "name": "ipython",
    "version": 3
   },
   "file_extension": ".py",
   "mimetype": "text/x-python",
   "name": "python",
   "nbconvert_exporter": "python",
   "pygments_lexer": "ipython3",
   "version": "3.11.5"
  }
 },
 "nbformat": 4,
 "nbformat_minor": 5
}
