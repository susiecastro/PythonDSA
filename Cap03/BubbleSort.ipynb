{
 "cells": [
  {
   "cell_type": "code",
   "execution_count": 6,
   "id": "99f59dd5",
   "metadata": {},
   "outputs": [],
   "source": [
    "lista =[6,7,8,3,10,19,4,1,0,61,30,16,17,82,29,34,43,21,11,39,56,67,12]"
   ]
  },
  {
   "cell_type": "code",
   "execution_count": 10,
   "id": "23b6ef55",
   "metadata": {},
   "outputs": [],
   "source": [
    "def bubble_sort(arr):\n",
    "    \n",
    "    n=len(arr)\n",
    "    \n",
    "    #Para cada elemento i do array\n",
    "    \n",
    "    for i in range(n):\n",
    "        \n",
    "        #Para cada elemento j do array\n",
    "        \n",
    "         for j in range(0,n-i-1):\n",
    "                \n",
    "          #Se elemento i for maior que elmento j\n",
    "        \n",
    "            if arr[j]>arr[j+1]:\n",
    "                \n",
    "                #Troque os elementos i e j\n",
    "                \n",
    "                arr[j],arr[j+1]=arr[j+1],arr[j]\n",
    "                \n",
    "    return arr"
   ]
  },
  {
   "cell_type": "code",
   "execution_count": 11,
   "id": "56742f4e",
   "metadata": {},
   "outputs": [
    {
     "name": "stdout",
     "output_type": "stream",
     "text": [
      "[0, 1, 3, 4, 6, 7, 8, 10, 11, 12, 16, 17, 19, 21, 29, 30, 34, 39, 43, 56, 61, 67, 82]\n"
     ]
    }
   ],
   "source": [
    "print(bubble_sort(lista))"
   ]
  },
  {
   "cell_type": "code",
   "execution_count": null,
   "id": "9bcc98cc",
   "metadata": {},
   "outputs": [],
   "source": []
  }
 ],
 "metadata": {
  "kernelspec": {
   "display_name": "Python 3 (ipykernel)",
   "language": "python",
   "name": "python3"
  },
  "language_info": {
   "codemirror_mode": {
    "name": "ipython",
    "version": 3
   },
   "file_extension": ".py",
   "mimetype": "text/x-python",
   "name": "python",
   "nbconvert_exporter": "python",
   "pygments_lexer": "ipython3",
   "version": "3.11.5"
  }
 },
 "nbformat": 4,
 "nbformat_minor": 5
}
